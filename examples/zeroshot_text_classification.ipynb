{
 "cells": [
  {
   "cell_type": "markdown",
   "metadata": {},
   "source": [
    "# Tutorial: Zero-Shot Text Classification\n",
    "\n",
    "In this short tutorial, we show how to use *ferret* to use and evaluate different explainability approaches in the task of Zero-Shot Text Classification.\n",
    "\n",
    "We will use `MoritzLaurer/mDeBERTa-v3-base-mnli-xnli` as model checkpoint."
   ]
  },
  {
   "cell_type": "code",
   "execution_count": 1,
   "metadata": {},
   "outputs": [],
   "source": [
    "%load_ext autoreload\n",
    "%autoreload 2"
   ]
  },
  {
   "cell_type": "code",
   "execution_count": 2,
   "metadata": {},
   "outputs": [
    {
     "name": "stderr",
     "output_type": "stream",
     "text": [
      "/home/giuseppe/miniconda3/envs/ferret/lib/python3.10/site-packages/tqdm/auto.py:21: TqdmWarning: IProgress not found. Please update jupyter and ipywidgets. See https://ipywidgets.readthedocs.io/en/stable/user_install.html\n",
      "  from .autonotebook import tqdm as notebook_tqdm\n"
     ]
    }
   ],
   "source": [
    "import torch\n",
    "from datasets import load_dataset\n",
    "from transformers import AutoModelForSequenceClassification, AutoTokenizer\n",
    "\n",
    "from ferret import (\n",
    "    Benchmark,\n",
    "    GradientExplainer,\n",
    "    IntegratedGradientExplainer,\n",
    "    LIMEExplainer,\n",
    "    SHAPExplainer,\n",
    ")\n",
    "\n",
    "device = \"cuda:0\" if torch.cuda.is_available() else \"cpu\""
   ]
  },
  {
   "cell_type": "code",
   "execution_count": 3,
   "metadata": {},
   "outputs": [
    {
     "name": "stderr",
     "output_type": "stream",
     "text": [
      "tokenizer_config.json: 100%|████████████████████████████████████████████████████████████████████████████████████████| 1.26k/1.26k [00:00<00:00, 2.55MB/s]\n",
      "spm.model: 100%|████████████████████████████████████████████████████████████████████████████████████████████████████| 4.31M/4.31M [00:00<00:00, 34.0MB/s]\n",
      "tokenizer.json: 100%|███████████████████████████████████████████████████████████████████████████████████████████████| 16.3M/16.3M [00:00<00:00, 87.5MB/s]\n",
      "added_tokens.json: 100%|██████████████████████████████████████████████████████████████████████████████████████████████| 23.0/23.0 [00:00<00:00, 50.6kB/s]\n",
      "special_tokens_map.json: 100%|███████████████████████████████████████████████████████████████████████████████████████████| 286/286 [00:00<00:00, 579kB/s]\n",
      "config.json: 100%|██████████████████████████████████████████████████████████████████████████████████████████████████| 1.07k/1.07k [00:00<00:00, 2.53MB/s]\n",
      "model.safetensors: 100%|██████████████████████████████████████████████████████████████████████████████████████████████| 558M/558M [00:06<00:00, 87.6MB/s]\n"
     ]
    }
   ],
   "source": [
    "model_name = \"MoritzLaurer/mDeBERTa-v3-base-mnli-xnli\"\n",
    "tokenizer = AutoTokenizer.from_pretrained(model_name)\n",
    "model = AutoModelForSequenceClassification.from_pretrained(model_name).to(device)"
   ]
  },
  {
   "cell_type": "code",
   "execution_count": 4,
   "metadata": {},
   "outputs": [
    {
     "name": "stderr",
     "output_type": "stream",
     "text": [
      "No helper provided. Using default 'text-classification' helper.\n"
     ]
    }
   ],
   "source": [
    "ig = IntegratedGradientExplainer(model, tokenizer, multiply_by_inputs=True)\n",
    "g = GradientExplainer(model, tokenizer, multiply_by_inputs=True)\n",
    "l = LIMEExplainer(model, tokenizer)"
   ]
  },
  {
   "cell_type": "code",
   "execution_count": 5,
   "metadata": {},
   "outputs": [
    {
     "name": "stderr",
     "output_type": "stream",
     "text": [
      "Overriding helper for explainer <ferret.explainers.gradient.IntegratedGradientExplainer object at 0x7fb9acb88be0>\n",
      "Overriding helper for explainer <ferret.explainers.gradient.GradientExplainer object at 0x7fb9acb89690>\n",
      "Overriding helper for explainer <ferret.explainers.lime.LIMEExplainer object at 0x7fb9acb88f70>\n"
     ]
    }
   ],
   "source": [
    "bench = Benchmark(\n",
    "    model, tokenizer, task_name=\"zero-shot-text-classification\", explainers=[ig, g, l]\n",
    ")"
   ]
  },
  {
   "cell_type": "code",
   "execution_count": 8,
   "metadata": {},
   "outputs": [],
   "source": [
    "sequence_to_classify = (\n",
    "    \"Amanda ha cucinato la più buona torta pecan che abbia mai provato!\"\n",
    ")\n",
    "candidate_labels = [\"politics\", \"economy\", \"bakery\", \"science\", \"informatics\"]\n",
    "sample = (sequence_to_classify, candidate_labels)"
   ]
  },
  {
   "cell_type": "code",
   "execution_count": 9,
   "metadata": {},
   "outputs": [
    {
     "data": {
      "text/plain": [
       "('Amanda ha cucinato la più buona torta pecan che abbia mai provato!',\n",
       " ['politics', 'economy', 'bakery', 'science', 'informatics'])"
      ]
     },
     "execution_count": 9,
     "metadata": {},
     "output_type": "execute_result"
    }
   ],
   "source": [
    "sample"
   ]
  },
  {
   "cell_type": "markdown",
   "metadata": {},
   "source": [
    "When scoring with a zero-shot classifier based on a NLI model, we need to specify the `options` available. You can specify an arbitrary number of options."
   ]
  },
  {
   "cell_type": "code",
   "execution_count": 10,
   "metadata": {},
   "outputs": [
    {
     "data": {
      "text/plain": [
       "{'politics': 0.15809638798236847,\n",
       " 'economy': 0.15844039618968964,\n",
       " 'bakery': 0.3655945956707001,\n",
       " 'science': 0.158456489443779,\n",
       " 'informatics': 0.15941213071346283}"
      ]
     },
     "execution_count": 10,
     "metadata": {},
     "output_type": "execute_result"
    }
   ],
   "source": [
    "# get the prediction from our model\n",
    "bench.score(sample[0], options=candidate_labels, return_probs=True)"
   ]
  },
  {
   "cell_type": "markdown",
   "metadata": {},
   "source": [
    "Since we know the model uses NLI to perform the classification task, we can know explain the `entailment` class for the most likely option `bakery`."
   ]
  },
  {
   "cell_type": "code",
   "execution_count": 11,
   "metadata": {},
   "outputs": [
    {
     "name": "stderr",
     "output_type": "stream",
     "text": [
      "WARNING:root:Using hardcoded '[SEP]' as separator token.\n",
      "Explainer:  33%|███████████████████████████████████▋                                                                       | 1/3 [00:00<00:00,  2.41it/s]\n",
      "Batch:   0%|                                                                                                                     | 0/113 [00:00<?, ?it/s]\u001b[A\n",
      "Batch:   4%|████▊                                                                                                        | 5/113 [00:00<00:02, 44.52it/s]\u001b[A\n",
      "Batch:   9%|█████████▌                                                                                                  | 10/113 [00:00<00:02, 44.77it/s]\u001b[A\n",
      "Batch:  13%|██████████████▎                                                                                             | 15/113 [00:00<00:02, 45.19it/s]\u001b[A\n",
      "Batch:  18%|███████████████████                                                                                         | 20/113 [00:00<00:02, 45.51it/s]\u001b[A\n",
      "Batch:  22%|███████████████████████▉                                                                                    | 25/113 [00:00<00:01, 44.28it/s]\u001b[A\n",
      "Batch:  27%|████████████████████████████▋                                                                               | 30/113 [00:00<00:01, 45.39it/s]\u001b[A\n",
      "Batch:  31%|█████████████████████████████████▍                                                                          | 35/113 [00:00<00:01, 46.72it/s]\u001b[A\n",
      "Batch:  35%|██████████████████████████████████████▏                                                                     | 40/113 [00:00<00:01, 44.53it/s]\u001b[A\n",
      "Batch:  40%|███████████████████████████████████████████                                                                 | 45/113 [00:01<00:01, 43.64it/s]\u001b[A\n",
      "Batch:  44%|███████████████████████████████████████████████▊                                                            | 50/113 [00:01<00:01, 44.34it/s]\u001b[A\n",
      "Batch:  49%|████████████████████████████████████████████████████▌                                                       | 55/113 [00:01<00:01, 44.00it/s]\u001b[A\n",
      "Batch:  53%|█████████████████████████████████████████████████████████▎                                                  | 60/113 [00:01<00:01, 42.87it/s]\u001b[A\n",
      "Batch:  58%|███████████████████████████████████████████████████████████████                                             | 66/113 [00:01<00:01, 45.01it/s]\u001b[A\n",
      "Batch:  63%|███████████████████████████████████████████████████████████████████▊                                        | 71/113 [00:01<00:00, 45.42it/s]\u001b[A\n",
      "Batch:  67%|████████████████████████████████████████████████████████████████████████▋                                   | 76/113 [00:01<00:00, 45.12it/s]\u001b[A\n",
      "Batch:  72%|█████████████████████████████████████████████████████████████████████████████▍                              | 81/113 [00:02<00:01, 28.01it/s]\u001b[A\n",
      "Batch:  76%|██████████████████████████████████████████████████████████████████████████████████▏                         | 86/113 [00:02<00:00, 31.64it/s]\u001b[A\n",
      "Batch:  81%|██████████████████████████████████████████████████████████████████████████████████████▉                     | 91/113 [00:02<00:00, 34.52it/s]\u001b[A\n",
      "Batch:  85%|███████████████████████████████████████████████████████████████████████████████████████████▊                | 96/113 [00:02<00:00, 36.17it/s]\u001b[A\n",
      "Batch:  89%|███████████████████████████████████████████████████████████████████████████████████████████████▋           | 101/113 [00:02<00:00, 38.43it/s]\u001b[A\n",
      "Batch:  94%|████████████████████████████████████████████████████████████████████████████████████████████████████▎      | 106/113 [00:02<00:00, 40.95it/s]\u001b[A\n",
      "Batch:  98%|█████████████████████████████████████████████████████████████████████████████████████████████████████████  | 111/113 [00:02<00:00, 40.41it/s]\u001b[A\n",
      "                                                                                                                                                         \u001b[A\r"
     ]
    }
   ],
   "source": [
    "exp = bench.explain(sample[0], target=\"entailment\", target_option=\"bakery\")"
   ]
  },
  {
   "cell_type": "code",
   "execution_count": 12,
   "metadata": {},
   "outputs": [
    {
     "data": {
      "text/html": [
       "<style type=\"text/css\">\n",
       "#T_e8c69 thead tr th:nth-child(1) {\n",
       "  position: sticky;\n",
       "  background-color: inherit;\n",
       "  left: 0px;\n",
       "  z-index: 3 !important;\n",
       "}\n",
       "#T_e8c69 tbody tr th:nth-child(1) {\n",
       "  position: sticky;\n",
       "  background-color: inherit;\n",
       "  left: 0px;\n",
       "  z-index: 1;\n",
       "}\n",
       "#T_e8c69_row0_col0, #T_e8c69_row0_col26 {\n",
       "  background-color: #efdbdd;\n",
       "  color: #000000;\n",
       "}\n",
       "#T_e8c69_row0_col1, #T_e8c69_row1_col14, #T_e8c69_row2_col14 {\n",
       "  background-color: #f1eaea;\n",
       "  color: #000000;\n",
       "}\n",
       "#T_e8c69_row0_col2, #T_e8c69_row1_col1, #T_e8c69_row2_col10 {\n",
       "  background-color: #eceef1;\n",
       "  color: #000000;\n",
       "}\n",
       "#T_e8c69_row0_col3, #T_e8c69_row0_col13, #T_e8c69_row0_col15, #T_e8c69_row1_col2, #T_e8c69_row1_col23, #T_e8c69_row2_col4, #T_e8c69_row2_col19 {\n",
       "  background-color: #edeff1;\n",
       "  color: #000000;\n",
       "}\n",
       "#T_e8c69_row0_col4, #T_e8c69_row0_col8, #T_e8c69_row0_col9, #T_e8c69_row0_col10, #T_e8c69_row0_col14, #T_e8c69_row0_col22, #T_e8c69_row1_col3, #T_e8c69_row1_col19, #T_e8c69_row1_col21, #T_e8c69_row2_col9, #T_e8c69_row2_col18, #T_e8c69_row2_col20 {\n",
       "  background-color: #eff0f2;\n",
       "  color: #000000;\n",
       "}\n",
       "#T_e8c69_row0_col5, #T_e8c69_row0_col11, #T_e8c69_row0_col18, #T_e8c69_row0_col20, #T_e8c69_row0_col25, #T_e8c69_row1_col5, #T_e8c69_row1_col6, #T_e8c69_row1_col7, #T_e8c69_row1_col15, #T_e8c69_row1_col20, #T_e8c69_row2_col16 {\n",
       "  background-color: #f2f1f1;\n",
       "  color: #000000;\n",
       "}\n",
       "#T_e8c69_row0_col6, #T_e8c69_row0_col12, #T_e8c69_row1_col17, #T_e8c69_row2_col17, #T_e8c69_row2_col26 {\n",
       "  background-color: #f2efef;\n",
       "  color: #000000;\n",
       "}\n",
       "#T_e8c69_row0_col7, #T_e8c69_row0_col19, #T_e8c69_row1_col10, #T_e8c69_row1_col11, #T_e8c69_row1_col12, #T_e8c69_row1_col24, #T_e8c69_row2_col0, #T_e8c69_row2_col1, #T_e8c69_row2_col15, #T_e8c69_row2_col23 {\n",
       "  background-color: #f1f1f2;\n",
       "  color: #000000;\n",
       "}\n",
       "#T_e8c69_row0_col16 {\n",
       "  background-color: #efdadb;\n",
       "  color: #000000;\n",
       "}\n",
       "#T_e8c69_row0_col17, #T_e8c69_row0_col21, #T_e8c69_row1_col0, #T_e8c69_row1_col16, #T_e8c69_row2_col7 {\n",
       "  background-color: #ebeef0;\n",
       "  color: #000000;\n",
       "}\n",
       "#T_e8c69_row0_col23 {\n",
       "  background-color: #d1dce5;\n",
       "  color: #000000;\n",
       "}\n",
       "#T_e8c69_row0_col24 {\n",
       "  background-color: #e5eaee;\n",
       "  color: #000000;\n",
       "}\n",
       "#T_e8c69_row0_col27, #T_e8c69_row2_col25 {\n",
       "  background-color: #e9edf0;\n",
       "  color: #000000;\n",
       "}\n",
       "#T_e8c69_row1_col4, #T_e8c69_row2_col5, #T_e8c69_row2_col6 {\n",
       "  background-color: #f2ebeb;\n",
       "  color: #000000;\n",
       "}\n",
       "#T_e8c69_row1_col8, #T_e8c69_row1_col9, #T_e8c69_row2_col2, #T_e8c69_row2_col3, #T_e8c69_row2_col13 {\n",
       "  background-color: #f2eded;\n",
       "  color: #000000;\n",
       "}\n",
       "#T_e8c69_row1_col13 {\n",
       "  background-color: #dde4ea;\n",
       "  color: #000000;\n",
       "}\n",
       "#T_e8c69_row1_col18, #T_e8c69_row1_col27, #T_e8c69_row2_col8, #T_e8c69_row2_col21 {\n",
       "  background-color: #f2eeee;\n",
       "  color: #000000;\n",
       "}\n",
       "#T_e8c69_row1_col22, #T_e8c69_row2_col24 {\n",
       "  background-color: #dee5eb;\n",
       "  color: #000000;\n",
       "}\n",
       "#T_e8c69_row1_col25, #T_e8c69_row2_col12 {\n",
       "  background-color: #f0ddde;\n",
       "  color: #000000;\n",
       "}\n",
       "#T_e8c69_row1_col26 {\n",
       "  background-color: #efd6d7;\n",
       "  color: #000000;\n",
       "}\n",
       "#T_e8c69_row2_col11 {\n",
       "  background-color: #edcacd;\n",
       "  color: #000000;\n",
       "}\n",
       "#T_e8c69_row2_col22 {\n",
       "  background-color: #f1e7e7;\n",
       "  color: #000000;\n",
       "}\n",
       "#T_e8c69_row2_col27 {\n",
       "  background-color: #e8ecef;\n",
       "  color: #000000;\n",
       "}\n",
       "</style>\n",
       "<table id=\"T_e8c69\">\n",
       "  <thead>\n",
       "    <tr>\n",
       "      <th class=\"blank level0\" >&nbsp;</th>\n",
       "      <th id=\"T_e8c69_level0_col0\" class=\"col_heading level0 col0\" >▁_0</th>\n",
       "      <th id=\"T_e8c69_level0_col1\" class=\"col_heading level0 col1\" >Amanda</th>\n",
       "      <th id=\"T_e8c69_level0_col2\" class=\"col_heading level0 col2\" >▁ha</th>\n",
       "      <th id=\"T_e8c69_level0_col3\" class=\"col_heading level0 col3\" >▁_1</th>\n",
       "      <th id=\"T_e8c69_level0_col4\" class=\"col_heading level0 col4\" >cucina</th>\n",
       "      <th id=\"T_e8c69_level0_col5\" class=\"col_heading level0 col5\" >to_0</th>\n",
       "      <th id=\"T_e8c69_level0_col6\" class=\"col_heading level0 col6\" >▁la</th>\n",
       "      <th id=\"T_e8c69_level0_col7\" class=\"col_heading level0 col7\" >▁p</th>\n",
       "      <th id=\"T_e8c69_level0_col8\" class=\"col_heading level0 col8\" >iù</th>\n",
       "      <th id=\"T_e8c69_level0_col9\" class=\"col_heading level0 col9\" >▁buon</th>\n",
       "      <th id=\"T_e8c69_level0_col10\" class=\"col_heading level0 col10\" >a_0</th>\n",
       "      <th id=\"T_e8c69_level0_col11\" class=\"col_heading level0 col11\" >▁tort</th>\n",
       "      <th id=\"T_e8c69_level0_col12\" class=\"col_heading level0 col12\" >a_1</th>\n",
       "      <th id=\"T_e8c69_level0_col13\" class=\"col_heading level0 col13\" >▁pe</th>\n",
       "      <th id=\"T_e8c69_level0_col14\" class=\"col_heading level0 col14\" >can</th>\n",
       "      <th id=\"T_e8c69_level0_col15\" class=\"col_heading level0 col15\" >▁che</th>\n",
       "      <th id=\"T_e8c69_level0_col16\" class=\"col_heading level0 col16\" >▁_2</th>\n",
       "      <th id=\"T_e8c69_level0_col17\" class=\"col_heading level0 col17\" >abbia</th>\n",
       "      <th id=\"T_e8c69_level0_col18\" class=\"col_heading level0 col18\" >▁mai</th>\n",
       "      <th id=\"T_e8c69_level0_col19\" class=\"col_heading level0 col19\" >▁prova</th>\n",
       "      <th id=\"T_e8c69_level0_col20\" class=\"col_heading level0 col20\" >to_1</th>\n",
       "      <th id=\"T_e8c69_level0_col21\" class=\"col_heading level0 col21\" >!</th>\n",
       "      <th id=\"T_e8c69_level0_col22\" class=\"col_heading level0 col22\" >[SEP]</th>\n",
       "      <th id=\"T_e8c69_level0_col23\" class=\"col_heading level0 col23\" >▁This</th>\n",
       "      <th id=\"T_e8c69_level0_col24\" class=\"col_heading level0 col24\" >▁is</th>\n",
       "      <th id=\"T_e8c69_level0_col25\" class=\"col_heading level0 col25\" >▁_3</th>\n",
       "      <th id=\"T_e8c69_level0_col26\" class=\"col_heading level0 col26\" >baker</th>\n",
       "      <th id=\"T_e8c69_level0_col27\" class=\"col_heading level0 col27\" >y</th>\n",
       "    </tr>\n",
       "  </thead>\n",
       "  <tbody>\n",
       "    <tr>\n",
       "      <th id=\"T_e8c69_level0_row0\" class=\"row_heading level0 row0\" >Integrated Gradient (x Input)</th>\n",
       "      <td id=\"T_e8c69_row0_col0\" class=\"data row0 col0\" >0.12</td>\n",
       "      <td id=\"T_e8c69_row0_col1\" class=\"data row0 col1\" >0.05</td>\n",
       "      <td id=\"T_e8c69_row0_col2\" class=\"data row0 col2\" >-0.03</td>\n",
       "      <td id=\"T_e8c69_row0_col3\" class=\"data row0 col3\" >-0.02</td>\n",
       "      <td id=\"T_e8c69_row0_col4\" class=\"data row0 col4\" >-0.01</td>\n",
       "      <td id=\"T_e8c69_row0_col5\" class=\"data row0 col5\" >0.00</td>\n",
       "      <td id=\"T_e8c69_row0_col6\" class=\"data row0 col6\" >0.01</td>\n",
       "      <td id=\"T_e8c69_row0_col7\" class=\"data row0 col7\" >-0.00</td>\n",
       "      <td id=\"T_e8c69_row0_col8\" class=\"data row0 col8\" >-0.01</td>\n",
       "      <td id=\"T_e8c69_row0_col9\" class=\"data row0 col9\" >-0.01</td>\n",
       "      <td id=\"T_e8c69_row0_col10\" class=\"data row0 col10\" >-0.01</td>\n",
       "      <td id=\"T_e8c69_row0_col11\" class=\"data row0 col11\" >0.00</td>\n",
       "      <td id=\"T_e8c69_row0_col12\" class=\"data row0 col12\" >0.01</td>\n",
       "      <td id=\"T_e8c69_row0_col13\" class=\"data row0 col13\" >-0.02</td>\n",
       "      <td id=\"T_e8c69_row0_col14\" class=\"data row0 col14\" >-0.01</td>\n",
       "      <td id=\"T_e8c69_row0_col15\" class=\"data row0 col15\" >-0.02</td>\n",
       "      <td id=\"T_e8c69_row0_col16\" class=\"data row0 col16\" >0.13</td>\n",
       "      <td id=\"T_e8c69_row0_col17\" class=\"data row0 col17\" >-0.04</td>\n",
       "      <td id=\"T_e8c69_row0_col18\" class=\"data row0 col18\" >0.01</td>\n",
       "      <td id=\"T_e8c69_row0_col19\" class=\"data row0 col19\" >-0.00</td>\n",
       "      <td id=\"T_e8c69_row0_col20\" class=\"data row0 col20\" >0.00</td>\n",
       "      <td id=\"T_e8c69_row0_col21\" class=\"data row0 col21\" >-0.04</td>\n",
       "      <td id=\"T_e8c69_row0_col22\" class=\"data row0 col22\" >-0.01</td>\n",
       "      <td id=\"T_e8c69_row0_col23\" class=\"data row0 col23\" >-0.18</td>\n",
       "      <td id=\"T_e8c69_row0_col24\" class=\"data row0 col24\" >-0.06</td>\n",
       "      <td id=\"T_e8c69_row0_col25\" class=\"data row0 col25\" >0.00</td>\n",
       "      <td id=\"T_e8c69_row0_col26\" class=\"data row0 col26\" >0.12</td>\n",
       "      <td id=\"T_e8c69_row0_col27\" class=\"data row0 col27\" >-0.05</td>\n",
       "    </tr>\n",
       "    <tr>\n",
       "      <th id=\"T_e8c69_level0_row1\" class=\"row_heading level0 row1\" >Gradient (x Input)</th>\n",
       "      <td id=\"T_e8c69_row1_col0\" class=\"data row1 col0\" >-0.04</td>\n",
       "      <td id=\"T_e8c69_row1_col1\" class=\"data row1 col1\" >-0.03</td>\n",
       "      <td id=\"T_e8c69_row1_col2\" class=\"data row1 col2\" >-0.02</td>\n",
       "      <td id=\"T_e8c69_row1_col3\" class=\"data row1 col3\" >-0.01</td>\n",
       "      <td id=\"T_e8c69_row1_col4\" class=\"data row1 col4\" >0.03</td>\n",
       "      <td id=\"T_e8c69_row1_col5\" class=\"data row1 col5\" >0.01</td>\n",
       "      <td id=\"T_e8c69_row1_col6\" class=\"data row1 col6\" >0.00</td>\n",
       "      <td id=\"T_e8c69_row1_col7\" class=\"data row1 col7\" >0.01</td>\n",
       "      <td id=\"T_e8c69_row1_col8\" class=\"data row1 col8\" >0.03</td>\n",
       "      <td id=\"T_e8c69_row1_col9\" class=\"data row1 col9\" >0.03</td>\n",
       "      <td id=\"T_e8c69_row1_col10\" class=\"data row1 col10\" >-0.00</td>\n",
       "      <td id=\"T_e8c69_row1_col11\" class=\"data row1 col11\" >-0.01</td>\n",
       "      <td id=\"T_e8c69_row1_col12\" class=\"data row1 col12\" >-0.00</td>\n",
       "      <td id=\"T_e8c69_row1_col13\" class=\"data row1 col13\" >-0.11</td>\n",
       "      <td id=\"T_e8c69_row1_col14\" class=\"data row1 col14\" >0.04</td>\n",
       "      <td id=\"T_e8c69_row1_col15\" class=\"data row1 col15\" >0.01</td>\n",
       "      <td id=\"T_e8c69_row1_col16\" class=\"data row1 col16\" >-0.03</td>\n",
       "      <td id=\"T_e8c69_row1_col17\" class=\"data row1 col17\" >0.01</td>\n",
       "      <td id=\"T_e8c69_row1_col18\" class=\"data row1 col18\" >0.02</td>\n",
       "      <td id=\"T_e8c69_row1_col19\" class=\"data row1 col19\" >-0.01</td>\n",
       "      <td id=\"T_e8c69_row1_col20\" class=\"data row1 col20\" >0.00</td>\n",
       "      <td id=\"T_e8c69_row1_col21\" class=\"data row1 col21\" >-0.01</td>\n",
       "      <td id=\"T_e8c69_row1_col22\" class=\"data row1 col22\" >-0.11</td>\n",
       "      <td id=\"T_e8c69_row1_col23\" class=\"data row1 col23\" >-0.02</td>\n",
       "      <td id=\"T_e8c69_row1_col24\" class=\"data row1 col24\" >-0.00</td>\n",
       "      <td id=\"T_e8c69_row1_col25\" class=\"data row1 col25\" >0.12</td>\n",
       "      <td id=\"T_e8c69_row1_col26\" class=\"data row1 col26\" >0.16</td>\n",
       "      <td id=\"T_e8c69_row1_col27\" class=\"data row1 col27\" >0.02</td>\n",
       "    </tr>\n",
       "    <tr>\n",
       "      <th id=\"T_e8c69_level0_row2\" class=\"row_heading level0 row2\" >LIME</th>\n",
       "      <td id=\"T_e8c69_row2_col0\" class=\"data row2 col0\" >-0.01</td>\n",
       "      <td id=\"T_e8c69_row2_col1\" class=\"data row2 col1\" >-0.00</td>\n",
       "      <td id=\"T_e8c69_row2_col2\" class=\"data row2 col2\" >0.03</td>\n",
       "      <td id=\"T_e8c69_row2_col3\" class=\"data row2 col3\" >0.03</td>\n",
       "      <td id=\"T_e8c69_row2_col4\" class=\"data row2 col4\" >-0.02</td>\n",
       "      <td id=\"T_e8c69_row2_col5\" class=\"data row2 col5\" >0.04</td>\n",
       "      <td id=\"T_e8c69_row2_col6\" class=\"data row2 col6\" >0.04</td>\n",
       "      <td id=\"T_e8c69_row2_col7\" class=\"data row2 col7\" >-0.03</td>\n",
       "      <td id=\"T_e8c69_row2_col8\" class=\"data row2 col8\" >0.02</td>\n",
       "      <td id=\"T_e8c69_row2_col9\" class=\"data row2 col9\" >-0.01</td>\n",
       "      <td id=\"T_e8c69_row2_col10\" class=\"data row2 col10\" >-0.03</td>\n",
       "      <td id=\"T_e8c69_row2_col11\" class=\"data row2 col11\" >0.21</td>\n",
       "      <td id=\"T_e8c69_row2_col12\" class=\"data row2 col12\" >0.11</td>\n",
       "      <td id=\"T_e8c69_row2_col13\" class=\"data row2 col13\" >0.03</td>\n",
       "      <td id=\"T_e8c69_row2_col14\" class=\"data row2 col14\" >0.04</td>\n",
       "      <td id=\"T_e8c69_row2_col15\" class=\"data row2 col15\" >-0.01</td>\n",
       "      <td id=\"T_e8c69_row2_col16\" class=\"data row2 col16\" >0.00</td>\n",
       "      <td id=\"T_e8c69_row2_col17\" class=\"data row2 col17\" >0.01</td>\n",
       "      <td id=\"T_e8c69_row2_col18\" class=\"data row2 col18\" >-0.02</td>\n",
       "      <td id=\"T_e8c69_row2_col19\" class=\"data row2 col19\" >-0.02</td>\n",
       "      <td id=\"T_e8c69_row2_col20\" class=\"data row2 col20\" >-0.01</td>\n",
       "      <td id=\"T_e8c69_row2_col21\" class=\"data row2 col21\" >0.02</td>\n",
       "      <td id=\"T_e8c69_row2_col22\" class=\"data row2 col22\" >0.06</td>\n",
       "      <td id=\"T_e8c69_row2_col23\" class=\"data row2 col23\" >-0.00</td>\n",
       "      <td id=\"T_e8c69_row2_col24\" class=\"data row2 col24\" >-0.10</td>\n",
       "      <td id=\"T_e8c69_row2_col25\" class=\"data row2 col25\" >-0.04</td>\n",
       "      <td id=\"T_e8c69_row2_col26\" class=\"data row2 col26\" >0.01</td>\n",
       "      <td id=\"T_e8c69_row2_col27\" class=\"data row2 col27\" >-0.05</td>\n",
       "    </tr>\n",
       "  </tbody>\n",
       "</table>\n"
      ],
      "text/plain": [
       "<pandas.io.formats.style.Styler at 0x7fb9acb89d50>"
      ]
     },
     "execution_count": 12,
     "metadata": {},
     "output_type": "execute_result"
    }
   ],
   "source": [
    "# show explanations\n",
    "bench.show_table(exp)"
   ]
  },
  {
   "cell_type": "code",
   "execution_count": 13,
   "metadata": {},
   "outputs": [
    {
     "name": "stderr",
     "output_type": "stream",
     "text": [
      "                                                                                                                                                         \r"
     ]
    },
    {
     "data": {
      "text/html": [
       "<style type=\"text/css\">\n",
       "#T_0cd9e thead tr th:nth-child(1) {\n",
       "  position: sticky;\n",
       "  background-color: inherit;\n",
       "  left: 0px;\n",
       "  z-index: 3 !important;\n",
       "}\n",
       "#T_0cd9e tbody tr th:nth-child(1) {\n",
       "  position: sticky;\n",
       "  background-color: inherit;\n",
       "  left: 0px;\n",
       "  z-index: 1;\n",
       "}\n",
       "#T_0cd9e_row0_col0 {\n",
       "  background-color: #a44ca4;\n",
       "  color: #f1f1f1;\n",
       "}\n",
       "#T_0cd9e_row0_col1 {\n",
       "  background-color: #d1a3d1;\n",
       "  color: #000000;\n",
       "}\n",
       "#T_0cd9e_row0_col2 {\n",
       "  background-color: #b672b6;\n",
       "  color: #f1f1f1;\n",
       "}\n",
       "#T_0cd9e_row1_col0 {\n",
       "  background-color: #973197;\n",
       "  color: #f1f1f1;\n",
       "}\n",
       "#T_0cd9e_row1_col1 {\n",
       "  background-color: #e5cbe5;\n",
       "  color: #000000;\n",
       "}\n",
       "#T_0cd9e_row1_col2 {\n",
       "  background-color: #c48ec4;\n",
       "  color: #f1f1f1;\n",
       "}\n",
       "#T_0cd9e_row2_col0 {\n",
       "  background-color: #902290;\n",
       "  color: #f1f1f1;\n",
       "}\n",
       "#T_0cd9e_row2_col1 {\n",
       "  background-color: #d9b3d9;\n",
       "  color: #000000;\n",
       "}\n",
       "#T_0cd9e_row2_col2 {\n",
       "  background-color: #a044a0;\n",
       "  color: #f1f1f1;\n",
       "}\n",
       "</style>\n",
       "<table id=\"T_0cd9e\">\n",
       "  <thead>\n",
       "    <tr>\n",
       "      <th class=\"blank level0\" >&nbsp;</th>\n",
       "      <th id=\"T_0cd9e_level0_col0\" class=\"col_heading level0 col0\" >aopc_compr</th>\n",
       "      <th id=\"T_0cd9e_level0_col1\" class=\"col_heading level0 col1\" >aopc_suff</th>\n",
       "      <th id=\"T_0cd9e_level0_col2\" class=\"col_heading level0 col2\" >taucorr_loo</th>\n",
       "    </tr>\n",
       "    <tr>\n",
       "      <th class=\"index_name level0\" >Explainer</th>\n",
       "      <th class=\"blank col0\" >&nbsp;</th>\n",
       "      <th class=\"blank col1\" >&nbsp;</th>\n",
       "      <th class=\"blank col2\" >&nbsp;</th>\n",
       "    </tr>\n",
       "  </thead>\n",
       "  <tbody>\n",
       "    <tr>\n",
       "      <th id=\"T_0cd9e_level0_row0\" class=\"row_heading level0 row0\" >Integrated Gradient (x Input)</th>\n",
       "      <td id=\"T_0cd9e_row0_col0\" class=\"data row0 col0\" >0.36</td>\n",
       "      <td id=\"T_0cd9e_row0_col1\" class=\"data row0 col1\" >0.63</td>\n",
       "      <td id=\"T_0cd9e_row0_col2\" class=\"data row0 col2\" >0.05</td>\n",
       "    </tr>\n",
       "    <tr>\n",
       "      <th id=\"T_0cd9e_level0_row1\" class=\"row_heading level0 row1\" >Gradient (x Input)</th>\n",
       "      <td id=\"T_0cd9e_row1_col0\" class=\"data row1 col0\" >0.59</td>\n",
       "      <td id=\"T_0cd9e_row1_col1\" class=\"data row1 col1\" >0.79</td>\n",
       "      <td id=\"T_0cd9e_row1_col2\" class=\"data row1 col2\" >-0.19</td>\n",
       "    </tr>\n",
       "    <tr>\n",
       "      <th id=\"T_0cd9e_level0_row2\" class=\"row_heading level0 row2\" >LIME</th>\n",
       "      <td id=\"T_0cd9e_row2_col0\" class=\"data row2 col0\" >0.72</td>\n",
       "      <td id=\"T_0cd9e_row2_col1\" class=\"data row2 col1\" >0.70</td>\n",
       "      <td id=\"T_0cd9e_row2_col2\" class=\"data row2 col2\" >0.43</td>\n",
       "    </tr>\n",
       "  </tbody>\n",
       "</table>\n"
      ],
      "text/plain": [
       "<pandas.io.formats.style.Styler at 0x7fb8bda3f130>"
      ]
     },
     "execution_count": 13,
     "metadata": {},
     "output_type": "execute_result"
    }
   ],
   "source": [
    "# evaluate explanations and show faithfulness metrics\n",
    "bench.show_evaluation_table(bench.evaluate_explanations(exp, target=\"entailment\"))"
   ]
  }
 ],
 "metadata": {
  "kernelspec": {
   "display_name": "Python 3 (ipykernel)",
   "language": "python",
   "name": "python3"
  },
  "language_info": {
   "codemirror_mode": {
    "name": "ipython",
    "version": 3
   },
   "file_extension": ".py",
   "mimetype": "text/x-python",
   "name": "python",
   "nbconvert_exporter": "python",
   "pygments_lexer": "ipython3",
   "version": "3.10.0"
  },
  "vscode": {
   "interpreter": {
    "hash": "78645345e5495b5ada400086274ed52038b33bbda7f86ad5b81938b6e8cf303a"
   }
  }
 },
 "nbformat": 4,
 "nbformat_minor": 4
}
