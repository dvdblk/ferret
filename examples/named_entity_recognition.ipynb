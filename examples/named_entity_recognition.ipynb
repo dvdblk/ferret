{
 "cells": [
  {
   "cell_type": "markdown",
   "metadata": {},
   "source": [
    "# Tutorial: Named Entity Recognition\n",
    "\n",
    "In this short tutorial, we show how to use *ferret* to use and evaluate post-hoc approaches in the task of Named Entity Recognition.\n",
    "\n",
    "We will use `Babelscape/wikineural-multilingual-ner` as model checkpoint."
   ]
  },
  {
   "cell_type": "code",
   "execution_count": 1,
   "metadata": {},
   "outputs": [],
   "source": [
    "%load_ext autoreload\n",
    "%autoreload 2"
   ]
  },
  {
   "cell_type": "code",
   "execution_count": 2,
   "metadata": {},
   "outputs": [
    {
     "name": "stderr",
     "output_type": "stream",
     "text": [
      "/home/giuseppe/miniconda3/envs/ferret/lib/python3.10/site-packages/tqdm/auto.py:21: TqdmWarning: IProgress not found. Please update jupyter and ipywidgets. See https://ipywidgets.readthedocs.io/en/stable/user_install.html\n",
      "  from .autonotebook import tqdm as notebook_tqdm\n"
     ]
    },
    {
     "data": {
      "text/plain": [
       "'cuda:0'"
      ]
     },
     "execution_count": 2,
     "metadata": {},
     "output_type": "execute_result"
    }
   ],
   "source": [
    "import torch\n",
    "from transformers import AutoModelForTokenClassification, AutoTokenizer\n",
    "\n",
    "from ferret import (\n",
    "    Benchmark,\n",
    "    GradientExplainer,\n",
    "    IntegratedGradientExplainer,\n",
    "    LIMEExplainer,\n",
    "    SHAPExplainer,\n",
    ")\n",
    "\n",
    "device = (\n",
    "    \"cuda:0\"\n",
    "    if torch.cuda.is_available()\n",
    "    else \"cpu\"\n",
    ")\n",
    "device"
   ]
  },
  {
   "cell_type": "code",
   "execution_count": 3,
   "metadata": {},
   "outputs": [
    {
     "name": "stderr",
     "output_type": "stream",
     "text": [
      "tokenizer_config.json: 100%|████████████████████████████████████████████████████████████████████████████████████████████| 333/333 [00:00<00:00, 99.6kB/s]\n",
      "vocab.txt: 100%|██████████████████████████████████████████████████████████████████████████████████████████████████████| 996k/996k [00:00<00:00, 2.41MB/s]\n",
      "tokenizer.json: 100%|███████████████████████████████████████████████████████████████████████████████████████████████| 1.96M/1.96M [00:00<00:00, 3.74MB/s]\n",
      "special_tokens_map.json: 100%|███████████████████████████████████████████████████████████████████████████████████████████| 112/112 [00:00<00:00, 227kB/s]\n",
      "config.json: 100%|██████████████████████████████████████████████████████████████████████████████████████████████████| 1.19k/1.19k [00:00<00:00, 2.71MB/s]\n",
      "model.safetensors: 100%|███████████████████████████████████████████████████████████████████████████████████████████████| 709M/709M [00:05<00:00, 127MB/s]\n"
     ]
    }
   ],
   "source": [
    "model_name = \"Babelscape/wikineural-multilingual-ner\"\n",
    "tokenizer = AutoTokenizer.from_pretrained(model_name)\n",
    "model = AutoModelForTokenClassification.from_pretrained(model_name).to(device)"
   ]
  },
  {
   "cell_type": "code",
   "execution_count": 4,
   "metadata": {},
   "outputs": [
    {
     "name": "stderr",
     "output_type": "stream",
     "text": [
      "No helper provided. Using default 'text-classification' helper.\n"
     ]
    }
   ],
   "source": [
    "ig = IntegratedGradientExplainer(model, tokenizer, multiply_by_inputs=True)\n",
    "g = GradientExplainer(model, tokenizer, multiply_by_inputs=True)\n",
    "s = SHAPExplainer(model, tokenizer)\n",
    "l = LIMEExplainer(model, tokenizer)"
   ]
  },
  {
   "cell_type": "code",
   "execution_count": 5,
   "metadata": {},
   "outputs": [
    {
     "name": "stderr",
     "output_type": "stream",
     "text": [
      "Overriding helper for explainer <ferret.explainers.gradient.IntegratedGradientExplainer object at 0x7f6c2fc6ba30>\n",
      "Overriding helper for explainer <ferret.explainers.gradient.GradientExplainer object at 0x7f6c2fc6b760>\n",
      "Overriding helper for explainer <ferret.explainers.shap.SHAPExplainer object at 0x7f6c2fc6be80>\n",
      "Overriding helper for explainer <ferret.explainers.lime.LIMEExplainer object at 0x7f6c2fc6bb50>\n"
     ]
    }
   ],
   "source": [
    "bench = Benchmark(model, tokenizer, explainers=[ig, g, s, l], task_name=\"ner\")"
   ]
  },
  {
   "cell_type": "code",
   "execution_count": 6,
   "metadata": {},
   "outputs": [],
   "source": [
    "example = \"My name is John and I live in New York\""
   ]
  },
  {
   "cell_type": "code",
   "execution_count": 7,
   "metadata": {},
   "outputs": [
    {
     "data": {
      "text/plain": [
       "{0: ('[CLS]',\n",
       "  {'O': 0.9994915723800659,\n",
       "   'B-PER': 2.6596975658321753e-05,\n",
       "   'I-PER': 0.0001727933413349092,\n",
       "   'B-ORG': 1.2901788068120368e-05,\n",
       "   'I-ORG': 6.348660826915875e-05,\n",
       "   'B-LOC': 9.968474842025898e-06,\n",
       "   'I-LOC': 0.00011104608711320907,\n",
       "   'B-MISC': 1.6124546164064668e-05,\n",
       "   'I-MISC': 9.544820932205766e-05}),\n",
       " 1: ('My',\n",
       "  {'O': 0.9999566078186035,\n",
       "   'B-PER': 8.589762728661299e-06,\n",
       "   'I-PER': 5.902734756091377e-06,\n",
       "   'B-ORG': 3.837647000182187e-06,\n",
       "   'I-ORG': 2.641082573973108e-06,\n",
       "   'B-LOC': 3.4237652926094597e-06,\n",
       "   'I-LOC': 3.1093154575501103e-06,\n",
       "   'B-MISC': 7.962845302245114e-06,\n",
       "   'I-MISC': 7.820964128768537e-06}),\n",
       " 2: ('name',\n",
       "  {'O': 0.9999486207962036,\n",
       "   'B-PER': 2.6577599783195183e-06,\n",
       "   'I-PER': 8.545670425519347e-06,\n",
       "   'B-ORG': 1.2938035069964826e-06,\n",
       "   'I-ORG': 6.106954060669523e-06,\n",
       "   'B-LOC': 8.132663538162888e-07,\n",
       "   'I-LOC': 6.332785687845899e-06,\n",
       "   'B-MISC': 2.279770342283882e-06,\n",
       "   'I-MISC': 2.332179428776726e-05}),\n",
       " 3: ('is',\n",
       "  {'O': 0.9999440908432007,\n",
       "   'B-PER': 2.979956207127543e-06,\n",
       "   'I-PER': 5.218531896389322e-06,\n",
       "   'B-ORG': 1.208988692269486e-06,\n",
       "   'I-ORG': 5.656387656927109e-06,\n",
       "   'B-LOC': 8.120086931739934e-07,\n",
       "   'I-LOC': 7.17535203875741e-06,\n",
       "   'B-MISC': 1.8063027482639882e-06,\n",
       "   'I-MISC': 3.1156745535554364e-05}),\n",
       " 4: ('John',\n",
       "  {'O': 0.04874856397509575,\n",
       "   'B-PER': 0.9163889288902283,\n",
       "   'I-PER': 0.00019027898088097572,\n",
       "   'B-ORG': 0.004377890378236771,\n",
       "   'I-ORG': 4.786741192219779e-05,\n",
       "   'B-LOC': 0.012441685423254967,\n",
       "   'I-LOC': 0.00011447227734606713,\n",
       "   'B-MISC': 0.016483159735798836,\n",
       "   'I-MISC': 0.0012071090750396252}),\n",
       " 5: ('and',\n",
       "  {'O': 0.9994294047355652,\n",
       "   'B-PER': 1.04239597931155e-05,\n",
       "   'I-PER': 0.00027993624098598957,\n",
       "   'B-ORG': 4.351934876467567e-06,\n",
       "   'I-ORG': 7.556783384643495e-05,\n",
       "   'B-LOC': 1.9022442074856372e-06,\n",
       "   'I-LOC': 9.416253305971622e-05,\n",
       "   'B-MISC': 5.260073976387503e-06,\n",
       "   'I-MISC': 9.904060425469652e-05}),\n",
       " 6: ('I',\n",
       "  {'O': 0.9998695850372314,\n",
       "   'B-PER': 4.500172508414835e-05,\n",
       "   'I-PER': 7.162484052969376e-06,\n",
       "   'B-ORG': 1.4382440895133186e-05,\n",
       "   'I-ORG': 4.125144187128171e-06,\n",
       "   'B-LOC': 2.214283995272126e-05,\n",
       "   'I-LOC': 2.642366553118336e-06,\n",
       "   'B-MISC': 2.3454553229385056e-05,\n",
       "   'I-MISC': 1.1428623110987246e-05}),\n",
       " 7: ('live',\n",
       "  {'O': 0.9999548196792603,\n",
       "   'B-PER': 8.211263207158481e-07,\n",
       "   'I-PER': 5.064332526671933e-06,\n",
       "   'B-ORG': 1.2542396916614962e-06,\n",
       "   'I-ORG': 1.0311079677194357e-05,\n",
       "   'B-LOC': 1.2674082654484664e-06,\n",
       "   'I-LOC': 1.1421665476518683e-05,\n",
       "   'B-MISC': 1.3220919754530769e-06,\n",
       "   'I-MISC': 1.3851567018718924e-05}),\n",
       " 8: ('in',\n",
       "  {'O': 0.9999614953994751,\n",
       "   'B-PER': 1.0246153578918893e-06,\n",
       "   'I-PER': 1.9371855159988627e-06,\n",
       "   'B-ORG': 2.489676035111188e-06,\n",
       "   'I-ORG': 7.75396893004654e-06,\n",
       "   'B-LOC': 2.790635562632815e-06,\n",
       "   'I-LOC': 5.344590135791805e-06,\n",
       "   'B-MISC': 1.2137913927290356e-06,\n",
       "   'I-MISC': 1.6001975382096134e-05}),\n",
       " 9: ('New',\n",
       "  {'O': 3.3661737688817084e-05,\n",
       "   'B-PER': 7.558373908977956e-06,\n",
       "   'I-PER': 9.301464160671458e-06,\n",
       "   'B-ORG': 3.007837221957743e-05,\n",
       "   'I-ORG': 3.3786687708925456e-05,\n",
       "   'B-LOC': 0.999711811542511,\n",
       "   'I-LOC': 9.066636994248256e-05,\n",
       "   'B-MISC': 1.4789152373850811e-05,\n",
       "   'I-MISC': 6.846559699624777e-05}),\n",
       " 10: ('York',\n",
       "  {'O': 0.0001443163346266374,\n",
       "   'B-PER': 8.461460311082192e-06,\n",
       "   'I-PER': 1.8600600014906377e-05,\n",
       "   'B-ORG': 3.396896545382333e-06,\n",
       "   'I-ORG': 0.00010265270248055458,\n",
       "   'B-LOC': 0.0001867239479906857,\n",
       "   'I-LOC': 0.9994814991950989,\n",
       "   'B-MISC': 4.256093689036788e-06,\n",
       "   'I-MISC': 5.023997073294595e-05}),\n",
       " 11: ('[SEP]',\n",
       "  {'O': 0.9999499320983887,\n",
       "   'B-PER': 8.616534614702687e-06,\n",
       "   'I-PER': 1.499432755736052e-06,\n",
       "   'B-ORG': 6.683063020318514e-06,\n",
       "   'I-ORG': 1.8902527472164365e-06,\n",
       "   'B-LOC': 6.0215897974558175e-06,\n",
       "   'I-LOC': 1.5409984825964784e-06,\n",
       "   'B-MISC': 1.73399384948425e-05,\n",
       "   'I-MISC': 6.430349912989186e-06})}"
      ]
     },
     "execution_count": 7,
     "metadata": {},
     "output_type": "execute_result"
    }
   ],
   "source": [
    "bench.score(example, return_dict=True)"
   ]
  },
  {
   "cell_type": "markdown",
   "metadata": {},
   "source": [
    "Let's now extract feature attribution scores to understand the probability the model outputs \n",
    "for the class `I-LOC` to the token `York`. "
   ]
  },
  {
   "cell_type": "code",
   "execution_count": 9,
   "metadata": {},
   "outputs": [
    {
     "name": "stderr",
     "output_type": "stream",
     "text": [
      "Explainer:  75%|████████████████████████████████████████████████████████████████████████████████▎                          | 3/4 [00:00<00:00,  6.22it/s]\n",
      "Batch:   0%|                                                                                                                      | 0/18 [00:00<?, ?it/s]\u001b[A\n",
      "Batch:  50%|███████████████████████████████████████████████████████                                                       | 9/18 [00:00<00:00, 84.40it/s]\u001b[A\n",
      "Batch: 100%|█████████████████████████████████████████████████████████████████████████████████████████████████████████████| 18/18 [00:00<00:00, 82.80it/s]\u001b[A\n",
      "                                                                                                                                                         \u001b[A\r"
     ]
    }
   ],
   "source": [
    "exp = bench.explain(example, target_token=\"York\", target=\"I-LOC\")"
   ]
  },
  {
   "cell_type": "code",
   "execution_count": 10,
   "metadata": {},
   "outputs": [
    {
     "data": {
      "text/plain": [
       "[Explanation(text=['My name is John and I live in New York'], tokens=['[CLS]', 'My', 'name', 'is', 'John', 'and', 'I', 'live', 'in', 'New', 'York', '[SEP]'], scores=array([ 0.        ,  0.00383799,  0.04170677,  0.03526182, -0.0290277 ,\n",
       "         0.01943913, -0.03253587,  0.02645964,  0.14818444,  0.34407989,\n",
       "         0.31946675,  0.        ]), explainer='Integrated Gradient (x Input)', target_pos_idx=6, helper_type='token-classification', target_token_pos_idx=10, target='I-LOC', target_token='York'),\n",
       " Explanation(text=['My name is John and I live in New York'], tokens=['[CLS]', 'My', 'name', 'is', 'John', 'and', 'I', 'live', 'in', 'New', 'York', '[SEP]'], scores=array([ 0.01879721, -0.01355127,  0.04893868, -0.07475153,  0.00767763,\n",
       "        -0.1387781 ,  0.07703502,  0.16541936, -0.18633376, -0.10591038,\n",
       "        -0.11951543, -0.04329159], dtype=float32), explainer='Gradient (x Input)', target_pos_idx=6, helper_type='token-classification', target_token_pos_idx=10, target='I-LOC', target_token='York'),\n",
       " Explanation(text=['My name is John and I live in New York'], tokens=['[CLS]', 'My', 'name', 'is', 'John', 'and', 'I', 'live', 'in', 'New', 'York', '[SEP]'], scores=array([ 0.00000000e+00,  3.06380996e-04,  9.90213697e-04,  8.57495128e-04,\n",
       "        -8.78131131e-04,  2.59245915e-05, -6.39881432e-02,  2.88743220e-01,\n",
       "         2.41584160e-01,  3.38413053e-01,  6.42132789e-02,  0.00000000e+00]), explainer='Partition SHAP', target_pos_idx=6, helper_type='token-classification', target_token_pos_idx=10, target='I-LOC', target_token='York'),\n",
       " Explanation(text=['My name is John and I live in New York'], tokens=['[CLS]', 'My', 'name', 'is', 'John', 'and', 'I', 'live', 'in', 'New', 'York', '[SEP]'], scores=array([ 0.        , -0.03050692,  0.02421604,  0.05415247, -0.04092589,\n",
       "         0.03398704,  0.0357672 ,  0.16979651,  0.11319885,  0.20029287,\n",
       "         0.29715621,  0.        ]), explainer='LIME', target_pos_idx=6, helper_type='token-classification', target_token_pos_idx=10, target='I-LOC', target_token='York')]"
      ]
     },
     "execution_count": 10,
     "metadata": {},
     "output_type": "execute_result"
    }
   ],
   "source": [
    "exp"
   ]
  },
  {
   "cell_type": "code",
   "execution_count": 11,
   "metadata": {},
   "outputs": [
    {
     "data": {
      "text/html": [
       "<style type=\"text/css\">\n",
       "#T_15f8f thead tr th:nth-child(1) {\n",
       "  position: sticky;\n",
       "  background-color: inherit;\n",
       "  left: 0px;\n",
       "  z-index: 3 !important;\n",
       "}\n",
       "#T_15f8f tbody tr th:nth-child(1) {\n",
       "  position: sticky;\n",
       "  background-color: inherit;\n",
       "  left: 0px;\n",
       "  z-index: 1;\n",
       "}\n",
       "#T_15f8f_row0_col0, #T_15f8f_row1_col3, #T_15f8f_row2_col0, #T_15f8f_row2_col1, #T_15f8f_row2_col2, #T_15f8f_row2_col4 {\n",
       "  background-color: #f2f1f1;\n",
       "  color: #000000;\n",
       "}\n",
       "#T_15f8f_row0_col1 {\n",
       "  background-color: #f1eaea;\n",
       "  color: #000000;\n",
       "}\n",
       "#T_15f8f_row0_col2, #T_15f8f_row3_col4, #T_15f8f_row3_col5 {\n",
       "  background-color: #f2ebeb;\n",
       "  color: #000000;\n",
       "}\n",
       "#T_15f8f_row0_col3, #T_15f8f_row3_col0 {\n",
       "  background-color: #eceef1;\n",
       "  color: #000000;\n",
       "}\n",
       "#T_15f8f_row0_col4 {\n",
       "  background-color: #f2eeee;\n",
       "  color: #000000;\n",
       "}\n",
       "#T_15f8f_row0_col5 {\n",
       "  background-color: #ebeef0;\n",
       "  color: #000000;\n",
       "}\n",
       "#T_15f8f_row0_col6, #T_15f8f_row3_col1 {\n",
       "  background-color: #f2eded;\n",
       "  color: #000000;\n",
       "}\n",
       "#T_15f8f_row0_col7 {\n",
       "  background-color: #efd7d9;\n",
       "  color: #000000;\n",
       "}\n",
       "#T_15f8f_row0_col8 {\n",
       "  background-color: #eab2b6;\n",
       "  color: #000000;\n",
       "}\n",
       "#T_15f8f_row0_col9 {\n",
       "  background-color: #ebb8bb;\n",
       "  color: #000000;\n",
       "}\n",
       "#T_15f8f_row1_col0 {\n",
       "  background-color: #eff0f2;\n",
       "  color: #000000;\n",
       "}\n",
       "#T_15f8f_row1_col1, #T_15f8f_row3_col2 {\n",
       "  background-color: #f1e8e9;\n",
       "  color: #000000;\n",
       "}\n",
       "#T_15f8f_row1_col2 {\n",
       "  background-color: #e4e9ed;\n",
       "  color: #000000;\n",
       "}\n",
       "#T_15f8f_row1_col4 {\n",
       "  background-color: #d9e2e9;\n",
       "  color: #000000;\n",
       "}\n",
       "#T_15f8f_row1_col5 {\n",
       "  background-color: #f1e4e5;\n",
       "  color: #000000;\n",
       "}\n",
       "#T_15f8f_row1_col6, #T_15f8f_row3_col6 {\n",
       "  background-color: #eed3d5;\n",
       "  color: #000000;\n",
       "}\n",
       "#T_15f8f_row1_col7 {\n",
       "  background-color: #d1dce5;\n",
       "  color: #000000;\n",
       "}\n",
       "#T_15f8f_row1_col8 {\n",
       "  background-color: #dee5eb;\n",
       "  color: #000000;\n",
       "}\n",
       "#T_15f8f_row1_col9 {\n",
       "  background-color: #dce3ea;\n",
       "  color: #000000;\n",
       "}\n",
       "#T_15f8f_row2_col3 {\n",
       "  background-color: #f1f1f2;\n",
       "  color: #000000;\n",
       "}\n",
       "#T_15f8f_row2_col5 {\n",
       "  background-color: #e5eaee;\n",
       "  color: #000000;\n",
       "}\n",
       "#T_15f8f_row2_col6 {\n",
       "  background-color: #ebbdc1;\n",
       "  color: #000000;\n",
       "}\n",
       "#T_15f8f_row2_col7 {\n",
       "  background-color: #edc6c9;\n",
       "  color: #000000;\n",
       "}\n",
       "#T_15f8f_row2_col8 {\n",
       "  background-color: #eab3b7;\n",
       "  color: #000000;\n",
       "}\n",
       "#T_15f8f_row2_col9 {\n",
       "  background-color: #f1e5e6;\n",
       "  color: #000000;\n",
       "}\n",
       "#T_15f8f_row3_col3 {\n",
       "  background-color: #e9edf0;\n",
       "  color: #000000;\n",
       "}\n",
       "#T_15f8f_row3_col7 {\n",
       "  background-color: #f0ddde;\n",
       "  color: #000000;\n",
       "}\n",
       "#T_15f8f_row3_col8 {\n",
       "  background-color: #eecdcf;\n",
       "  color: #000000;\n",
       "}\n",
       "#T_15f8f_row3_col9 {\n",
       "  background-color: #ebbbbe;\n",
       "  color: #000000;\n",
       "}\n",
       "</style>\n",
       "<table id=\"T_15f8f\">\n",
       "  <thead>\n",
       "    <tr>\n",
       "      <th class=\"blank level0\" >&nbsp;</th>\n",
       "      <th id=\"T_15f8f_level0_col0\" class=\"col_heading level0 col0\" >My</th>\n",
       "      <th id=\"T_15f8f_level0_col1\" class=\"col_heading level0 col1\" >name</th>\n",
       "      <th id=\"T_15f8f_level0_col2\" class=\"col_heading level0 col2\" >is</th>\n",
       "      <th id=\"T_15f8f_level0_col3\" class=\"col_heading level0 col3\" >John</th>\n",
       "      <th id=\"T_15f8f_level0_col4\" class=\"col_heading level0 col4\" >and</th>\n",
       "      <th id=\"T_15f8f_level0_col5\" class=\"col_heading level0 col5\" >I</th>\n",
       "      <th id=\"T_15f8f_level0_col6\" class=\"col_heading level0 col6\" >live</th>\n",
       "      <th id=\"T_15f8f_level0_col7\" class=\"col_heading level0 col7\" >in</th>\n",
       "      <th id=\"T_15f8f_level0_col8\" class=\"col_heading level0 col8\" >New</th>\n",
       "      <th id=\"T_15f8f_level0_col9\" class=\"col_heading level0 col9\" >York</th>\n",
       "    </tr>\n",
       "  </thead>\n",
       "  <tbody>\n",
       "    <tr>\n",
       "      <th id=\"T_15f8f_level0_row0\" class=\"row_heading level0 row0\" >Integrated Gradient (x Input)</th>\n",
       "      <td id=\"T_15f8f_row0_col0\" class=\"data row0 col0\" >0.00</td>\n",
       "      <td id=\"T_15f8f_row0_col1\" class=\"data row0 col1\" >0.04</td>\n",
       "      <td id=\"T_15f8f_row0_col2\" class=\"data row0 col2\" >0.04</td>\n",
       "      <td id=\"T_15f8f_row0_col3\" class=\"data row0 col3\" >-0.03</td>\n",
       "      <td id=\"T_15f8f_row0_col4\" class=\"data row0 col4\" >0.02</td>\n",
       "      <td id=\"T_15f8f_row0_col5\" class=\"data row0 col5\" >-0.03</td>\n",
       "      <td id=\"T_15f8f_row0_col6\" class=\"data row0 col6\" >0.03</td>\n",
       "      <td id=\"T_15f8f_row0_col7\" class=\"data row0 col7\" >0.15</td>\n",
       "      <td id=\"T_15f8f_row0_col8\" class=\"data row0 col8\" >0.34</td>\n",
       "      <td id=\"T_15f8f_row0_col9\" class=\"data row0 col9\" >0.32</td>\n",
       "    </tr>\n",
       "    <tr>\n",
       "      <th id=\"T_15f8f_level0_row1\" class=\"row_heading level0 row1\" >Gradient (x Input)</th>\n",
       "      <td id=\"T_15f8f_row1_col0\" class=\"data row1 col0\" >-0.01</td>\n",
       "      <td id=\"T_15f8f_row1_col1\" class=\"data row1 col1\" >0.05</td>\n",
       "      <td id=\"T_15f8f_row1_col2\" class=\"data row1 col2\" >-0.07</td>\n",
       "      <td id=\"T_15f8f_row1_col3\" class=\"data row1 col3\" >0.01</td>\n",
       "      <td id=\"T_15f8f_row1_col4\" class=\"data row1 col4\" >-0.14</td>\n",
       "      <td id=\"T_15f8f_row1_col5\" class=\"data row1 col5\" >0.08</td>\n",
       "      <td id=\"T_15f8f_row1_col6\" class=\"data row1 col6\" >0.17</td>\n",
       "      <td id=\"T_15f8f_row1_col7\" class=\"data row1 col7\" >-0.19</td>\n",
       "      <td id=\"T_15f8f_row1_col8\" class=\"data row1 col8\" >-0.11</td>\n",
       "      <td id=\"T_15f8f_row1_col9\" class=\"data row1 col9\" >-0.12</td>\n",
       "    </tr>\n",
       "    <tr>\n",
       "      <th id=\"T_15f8f_level0_row2\" class=\"row_heading level0 row2\" >Partition SHAP</th>\n",
       "      <td id=\"T_15f8f_row2_col0\" class=\"data row2 col0\" >0.00</td>\n",
       "      <td id=\"T_15f8f_row2_col1\" class=\"data row2 col1\" >0.00</td>\n",
       "      <td id=\"T_15f8f_row2_col2\" class=\"data row2 col2\" >0.00</td>\n",
       "      <td id=\"T_15f8f_row2_col3\" class=\"data row2 col3\" >-0.00</td>\n",
       "      <td id=\"T_15f8f_row2_col4\" class=\"data row2 col4\" >0.00</td>\n",
       "      <td id=\"T_15f8f_row2_col5\" class=\"data row2 col5\" >-0.06</td>\n",
       "      <td id=\"T_15f8f_row2_col6\" class=\"data row2 col6\" >0.29</td>\n",
       "      <td id=\"T_15f8f_row2_col7\" class=\"data row2 col7\" >0.24</td>\n",
       "      <td id=\"T_15f8f_row2_col8\" class=\"data row2 col8\" >0.34</td>\n",
       "      <td id=\"T_15f8f_row2_col9\" class=\"data row2 col9\" >0.06</td>\n",
       "    </tr>\n",
       "    <tr>\n",
       "      <th id=\"T_15f8f_level0_row3\" class=\"row_heading level0 row3\" >LIME</th>\n",
       "      <td id=\"T_15f8f_row3_col0\" class=\"data row3 col0\" >-0.03</td>\n",
       "      <td id=\"T_15f8f_row3_col1\" class=\"data row3 col1\" >0.02</td>\n",
       "      <td id=\"T_15f8f_row3_col2\" class=\"data row3 col2\" >0.05</td>\n",
       "      <td id=\"T_15f8f_row3_col3\" class=\"data row3 col3\" >-0.04</td>\n",
       "      <td id=\"T_15f8f_row3_col4\" class=\"data row3 col4\" >0.03</td>\n",
       "      <td id=\"T_15f8f_row3_col5\" class=\"data row3 col5\" >0.04</td>\n",
       "      <td id=\"T_15f8f_row3_col6\" class=\"data row3 col6\" >0.17</td>\n",
       "      <td id=\"T_15f8f_row3_col7\" class=\"data row3 col7\" >0.11</td>\n",
       "      <td id=\"T_15f8f_row3_col8\" class=\"data row3 col8\" >0.20</td>\n",
       "      <td id=\"T_15f8f_row3_col9\" class=\"data row3 col9\" >0.30</td>\n",
       "    </tr>\n",
       "  </tbody>\n",
       "</table>\n"
      ],
      "text/plain": [
       "<pandas.io.formats.style.Styler at 0x7f6c304fc790>"
      ]
     },
     "execution_count": 11,
     "metadata": {},
     "output_type": "execute_result"
    }
   ],
   "source": [
    "bench.show_table(exp)"
   ]
  },
  {
   "cell_type": "code",
   "execution_count": 12,
   "metadata": {},
   "outputs": [
    {
     "name": "stderr",
     "output_type": "stream",
     "text": [
      "Explanation eval:   0%|                                                                                                            | 0/4 [00:00<?, ?it/s]NER does not support token removal. 'remove_tokens' set to False\n",
      "NER does not support token removal. 'remove_tokens' set to False\n",
      "                                                                                                                                                         \r"
     ]
    }
   ],
   "source": [
    "evaluations = bench.evaluate_explanations(exp)"
   ]
  },
  {
   "cell_type": "code",
   "execution_count": 13,
   "metadata": {},
   "outputs": [
    {
     "data": {
      "text/html": [
       "<style type=\"text/css\">\n",
       "#T_94626 thead tr th:nth-child(1) {\n",
       "  position: sticky;\n",
       "  background-color: inherit;\n",
       "  left: 0px;\n",
       "  z-index: 3 !important;\n",
       "}\n",
       "#T_94626 tbody tr th:nth-child(1) {\n",
       "  position: sticky;\n",
       "  background-color: inherit;\n",
       "  left: 0px;\n",
       "  z-index: 1;\n",
       "}\n",
       "#T_94626_row0_col0, #T_94626_row3_col0 {\n",
       "  background-color: #870e87;\n",
       "  color: #f1f1f1;\n",
       "}\n",
       "#T_94626_row0_col1, #T_94626_row3_col1 {\n",
       "  background-color: #922592;\n",
       "  color: #f1f1f1;\n",
       "}\n",
       "#T_94626_row0_col2 {\n",
       "  background-color: #993599;\n",
       "  color: #f1f1f1;\n",
       "}\n",
       "#T_94626_row1_col0 {\n",
       "  background-color: #b976b9;\n",
       "  color: #f1f1f1;\n",
       "}\n",
       "#T_94626_row1_col1 {\n",
       "  background-color: #ffffff;\n",
       "  color: #000000;\n",
       "}\n",
       "#T_94626_row1_col2 {\n",
       "  background-color: #b670b6;\n",
       "  color: #f1f1f1;\n",
       "}\n",
       "#T_94626_row2_col0 {\n",
       "  background-color: #8e1c8e;\n",
       "  color: #f1f1f1;\n",
       "}\n",
       "#T_94626_row2_col1 {\n",
       "  background-color: #9e3d9e;\n",
       "  color: #f1f1f1;\n",
       "}\n",
       "#T_94626_row2_col2 {\n",
       "  background-color: #8f208f;\n",
       "  color: #f1f1f1;\n",
       "}\n",
       "#T_94626_row3_col2 {\n",
       "  background-color: #a44aa4;\n",
       "  color: #f1f1f1;\n",
       "}\n",
       "</style>\n",
       "<table id=\"T_94626\">\n",
       "  <thead>\n",
       "    <tr>\n",
       "      <th class=\"blank level0\" >&nbsp;</th>\n",
       "      <th id=\"T_94626_level0_col0\" class=\"col_heading level0 col0\" >aopc_compr</th>\n",
       "      <th id=\"T_94626_level0_col1\" class=\"col_heading level0 col1\" >aopc_suff</th>\n",
       "      <th id=\"T_94626_level0_col2\" class=\"col_heading level0 col2\" >taucorr_loo</th>\n",
       "    </tr>\n",
       "    <tr>\n",
       "      <th class=\"index_name level0\" >Explainer</th>\n",
       "      <th class=\"blank col0\" >&nbsp;</th>\n",
       "      <th class=\"blank col1\" >&nbsp;</th>\n",
       "      <th class=\"blank col2\" >&nbsp;</th>\n",
       "    </tr>\n",
       "  </thead>\n",
       "  <tbody>\n",
       "    <tr>\n",
       "      <th id=\"T_94626_level0_row0\" class=\"row_heading level0 row0\" >Integrated Gradient (x Input)</th>\n",
       "      <td id=\"T_94626_row0_col0\" class=\"data row0 col0\" >0.88</td>\n",
       "      <td id=\"T_94626_row0_col1\" class=\"data row0 col1\" >0.15</td>\n",
       "      <td id=\"T_94626_row0_col2\" class=\"data row0 col2\" >0.56</td>\n",
       "    </tr>\n",
       "    <tr>\n",
       "      <th id=\"T_94626_level0_row1\" class=\"row_heading level0 row1\" >Gradient (x Input)</th>\n",
       "      <td id=\"T_94626_row1_col0\" class=\"data row1 col0\" >0.01</td>\n",
       "      <td id=\"T_94626_row1_col1\" class=\"data row1 col1\" >1.00</td>\n",
       "      <td id=\"T_94626_row1_col2\" class=\"data row1 col2\" >0.07</td>\n",
       "    </tr>\n",
       "    <tr>\n",
       "      <th id=\"T_94626_level0_row2\" class=\"row_heading level0 row2\" >Partition SHAP</th>\n",
       "      <td id=\"T_94626_row2_col0\" class=\"data row2 col0\" >0.76</td>\n",
       "      <td id=\"T_94626_row2_col1\" class=\"data row2 col1\" >0.24</td>\n",
       "      <td id=\"T_94626_row2_col2\" class=\"data row2 col2\" >0.73</td>\n",
       "    </tr>\n",
       "    <tr>\n",
       "      <th id=\"T_94626_level0_row3\" class=\"row_heading level0 row3\" >LIME</th>\n",
       "      <td id=\"T_94626_row3_col0\" class=\"data row3 col0\" >0.88</td>\n",
       "      <td id=\"T_94626_row3_col1\" class=\"data row3 col1\" >0.14</td>\n",
       "      <td id=\"T_94626_row3_col2\" class=\"data row3 col2\" >0.38</td>\n",
       "    </tr>\n",
       "  </tbody>\n",
       "</table>\n"
      ],
      "text/plain": [
       "<pandas.io.formats.style.Styler at 0x7f6af52d9ba0>"
      ]
     },
     "execution_count": 13,
     "metadata": {},
     "output_type": "execute_result"
    }
   ],
   "source": [
    "bench.show_evaluation_table(evaluations)"
   ]
  }
 ],
 "metadata": {
  "kernelspec": {
   "display_name": "Python 3 (ipykernel)",
   "language": "python",
   "name": "python3"
  },
  "language_info": {
   "codemirror_mode": {
    "name": "ipython",
    "version": 3
   },
   "file_extension": ".py",
   "mimetype": "text/x-python",
   "name": "python",
   "nbconvert_exporter": "python",
   "pygments_lexer": "ipython3",
   "version": "3.10.0"
  },
  "vscode": {
   "interpreter": {
    "hash": "78645345e5495b5ada400086274ed52038b33bbda7f86ad5b81938b6e8cf303a"
   }
  }
 },
 "nbformat": 4,
 "nbformat_minor": 4
}
