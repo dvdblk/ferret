{
 "cells": [
  {
   "cell_type": "markdown",
   "metadata": {},
   "source": [
    "# Tutorial: Natural Language Inference\n",
    "\n",
    "In this short tutorial, we show how to use *ferret* to use and evaluate different gradient based approaches in the task of Natural Language Inference.\n",
    "\n",
    "We will use`distilbert-base-uncased-finetuned-sst-2-english` as model checkpoint."
   ]
  },
  {
   "cell_type": "code",
   "execution_count": 1,
   "metadata": {},
   "outputs": [],
   "source": [
    "%load_ext autoreload\n",
    "%autoreload 2"
   ]
  },
  {
   "cell_type": "code",
   "execution_count": 2,
   "metadata": {},
   "outputs": [
    {
     "name": "stderr",
     "output_type": "stream",
     "text": [
      "/home/giuseppe/miniconda3/envs/ferret/lib/python3.10/site-packages/tqdm/auto.py:21: TqdmWarning: IProgress not found. Please update jupyter and ipywidgets. See https://ipywidgets.readthedocs.io/en/stable/user_install.html\n",
      "  from .autonotebook import tqdm as notebook_tqdm\n"
     ]
    }
   ],
   "source": [
    "import torch\n",
    "from datasets import load_dataset\n",
    "from transformers import AutoModelForSequenceClassification, AutoTokenizer\n",
    "\n",
    "from ferret import (\n",
    "    Benchmark,\n",
    "    GradientExplainer,\n",
    "    IntegratedGradientExplainer,\n",
    "    LIMEExplainer,\n",
    "    SHAPExplainer,\n",
    ")\n",
    "\n",
    "device = \"cuda:0\" if torch.cuda.is_available() else \"cpu\""
   ]
  },
  {
   "cell_type": "code",
   "execution_count": 3,
   "metadata": {},
   "outputs": [],
   "source": [
    "premise = \"I first thought that I liked the movie, but upon second thought it was actually disappointing.\"\n",
    "hypothesis = \"The movie was good.\"\n",
    "sample = (premise, hypothesis)"
   ]
  },
  {
   "cell_type": "code",
   "execution_count": 4,
   "metadata": {},
   "outputs": [
    {
     "name": "stderr",
     "output_type": "stream",
     "text": [
      "tokenizer_config.json: 100%|████████████████████████████████████████████████████████████████████████████████████████| 1.28k/1.28k [00:00<00:00, 2.26MB/s]\n",
      "spm.model: 100%|████████████████████████████████████████████████████████████████████████████████████████████████████| 2.46M/2.46M [00:00<00:00, 25.1MB/s]\n",
      "tokenizer.json: 100%|███████████████████████████████████████████████████████████████████████████████████████████████| 8.66M/8.66M [00:00<00:00, 13.7MB/s]\n",
      "added_tokens.json: 100%|██████████████████████████████████████████████████████████████████████████████████████████████| 23.0/23.0 [00:00<00:00, 46.2kB/s]\n",
      "special_tokens_map.json: 100%|███████████████████████████████████████████████████████████████████████████████████████████| 286/286 [00:00<00:00, 714kB/s]\n",
      "config.json: 100%|██████████████████████████████████████████████████████████████████████████████████████████████████| 1.09k/1.09k [00:00<00:00, 2.32MB/s]\n",
      "model.safetensors: 100%|███████████████████████████████████████████████████████████████████████████████████████████████| 369M/369M [00:02<00:00, 138MB/s]\n"
     ]
    }
   ],
   "source": [
    "model_name = \"MoritzLaurer/DeBERTa-v3-base-mnli-fever-anli\"\n",
    "tokenizer = AutoTokenizer.from_pretrained(model_name)\n",
    "model = AutoModelForSequenceClassification.from_pretrained(model_name).to(device)"
   ]
  },
  {
   "cell_type": "code",
   "execution_count": 5,
   "metadata": {},
   "outputs": [
    {
     "name": "stderr",
     "output_type": "stream",
     "text": [
      "No helper provided. Using default 'text-classification' helper.\n"
     ]
    }
   ],
   "source": [
    "ig = IntegratedGradientExplainer(model, tokenizer, multiply_by_inputs=True)\n",
    "g = GradientExplainer(model, tokenizer, multiply_by_inputs=True)\n",
    "l = LIMEExplainer(model, tokenizer)"
   ]
  },
  {
   "cell_type": "code",
   "execution_count": 6,
   "metadata": {},
   "outputs": [
    {
     "name": "stderr",
     "output_type": "stream",
     "text": [
      "Overriding helper for explainer <ferret.explainers.gradient.IntegratedGradientExplainer object at 0x7fb838729db0>\n",
      "Overriding helper for explainer <ferret.explainers.gradient.GradientExplainer object at 0x7fb836dd4940>\n",
      "Overriding helper for explainer <ferret.explainers.lime.LIMEExplainer object at 0x7fb836dd6770>\n"
     ]
    }
   ],
   "source": [
    "bench = Benchmark(model, tokenizer, task_name=\"nli\", explainers=[ig, g, l])"
   ]
  },
  {
   "cell_type": "markdown",
   "metadata": {},
   "source": [
    "Let's print the attribute `targets` to see what are the available targets classes.\n",
    "You can then use them as integers (e.g., `2`) or in textual form (e.g., `contradiction`)."
   ]
  },
  {
   "cell_type": "code",
   "execution_count": 7,
   "metadata": {},
   "outputs": [
    {
     "data": {
      "text/plain": [
       "{0: 'entailment', 1: 'neutral', 2: 'contradiction'}"
      ]
     },
     "execution_count": 7,
     "metadata": {},
     "output_type": "execute_result"
    }
   ],
   "source": [
    "bench.targets"
   ]
  },
  {
   "cell_type": "markdown",
   "metadata": {},
   "source": [
    "Otherwise, you can predict the model's output and print them to know the available options. For NLI, standard classes are `entailement`, `neutral`, and `contradiction`. However, please note that different developers or model designers might use different names or number of classes."
   ]
  },
  {
   "cell_type": "code",
   "execution_count": 8,
   "metadata": {},
   "outputs": [
    {
     "name": "stderr",
     "output_type": "stream",
     "text": [
      "Asking to truncate to max_length but no maximum length is provided and the model has no predefined maximum length. Default to no truncation.\n"
     ]
    },
    {
     "data": {
      "text/plain": [
       "{'entailment': 0.06558243185281754,\n",
       " 'neutral': 0.17329974472522736,\n",
       " 'contradiction': 0.7611178755760193}"
      ]
     },
     "execution_count": 8,
     "metadata": {},
     "output_type": "execute_result"
    }
   ],
   "source": [
    "# get the prediction from our model\n",
    "bench.score(sample)"
   ]
  },
  {
   "cell_type": "markdown",
   "metadata": {},
   "source": [
    "Let's now explain the prediction for the class *contradiction*, which is the model's most likely output---and, intuitively, the correct one."
   ]
  },
  {
   "cell_type": "code",
   "execution_count": 9,
   "metadata": {},
   "outputs": [
    {
     "name": "stderr",
     "output_type": "stream",
     "text": [
      "WARNING:root:Using hardcoded '[SEP]' as separator token.\n",
      "Explainer:   0%|                                                                                                                   | 0/3 [00:00<?, ?it/s]WARNING:root:Using hardcoded '[SEP]' as separator token.\n",
      "Explainer:  33%|███████████████████████████████████▋                                                                       | 1/3 [00:00<00:00,  2.49it/s]WARNING:root:Using hardcoded '[SEP]' as separator token.\n",
      "WARNING:root:Using hardcoded '[SEP]' as separator token.\n",
      "\n",
      "Batch:   0%|                                                                                                                      | 0/85 [00:00<?, ?it/s]\u001b[A\n",
      "Batch:   6%|██████▍                                                                                                       | 5/85 [00:00<00:01, 49.32it/s]\u001b[A\n",
      "Batch:  13%|██████████████                                                                                               | 11/85 [00:00<00:01, 51.21it/s]\u001b[A\n",
      "Batch:  20%|█████████████████████▊                                                                                       | 17/85 [00:00<00:01, 51.85it/s]\u001b[A\n",
      "Batch:  27%|█████████████████████████████▍                                                                               | 23/85 [00:00<00:01, 47.87it/s]\u001b[A\n",
      "Batch:  34%|█████████████████████████████████████▏                                                                       | 29/85 [00:00<00:01, 49.05it/s]\u001b[A\n",
      "Batch:  40%|███████████████████████████████████████████▌                                                                 | 34/85 [00:00<00:01, 47.68it/s]\u001b[A\n",
      "Batch:  46%|██████████████████████████████████████████████████                                                           | 39/85 [00:00<00:00, 46.63it/s]\u001b[A\n",
      "Batch:  53%|█████████████████████████████████████████████████████████▋                                                   | 45/85 [00:00<00:00, 47.70it/s]\u001b[A\n",
      "Batch:  59%|████████████████████████████████████████████████████████████████                                             | 50/85 [00:01<00:00, 47.80it/s]\u001b[A\n",
      "Batch:  65%|██████████████████████████████████████████████████████████████████████▌                                      | 55/85 [00:01<00:00, 46.46it/s]\u001b[A\n",
      "Batch:  71%|████████████████████████████████████████████████████████████████████████████▉                                | 60/85 [00:01<00:00, 46.64it/s]\u001b[A\n",
      "Batch:  76%|███████████████████████████████████████████████████████████████████████████████████▎                         | 65/85 [00:01<00:00, 45.75it/s]\u001b[A\n",
      "Batch:  82%|█████████████████████████████████████████████████████████████████████████████████████████▊                   | 70/85 [00:01<00:00, 46.66it/s]\u001b[A\n",
      "Batch:  88%|████████████████████████████████████████████████████████████████████████████████████████████████▏            | 75/85 [00:01<00:00, 47.26it/s]\u001b[A\n",
      "Batch:  94%|██████████████████████████████████████████████████████████████████████████████████████████████████████▌      | 80/85 [00:01<00:00, 46.05it/s]\u001b[A\n",
      "                                                                                                                                                         \u001b[A\r"
     ]
    }
   ],
   "source": [
    "# explain the contradiction class\n",
    "exp = bench.explain(sample, target=\"contradiction\")"
   ]
  },
  {
   "cell_type": "code",
   "execution_count": 10,
   "metadata": {},
   "outputs": [
    {
     "data": {
      "text/html": [
       "<style type=\"text/css\">\n",
       "#T_8f66e thead tr th:nth-child(1) {\n",
       "  position: sticky;\n",
       "  background-color: inherit;\n",
       "  left: 0px;\n",
       "  z-index: 3 !important;\n",
       "}\n",
       "#T_8f66e tbody tr th:nth-child(1) {\n",
       "  position: sticky;\n",
       "  background-color: inherit;\n",
       "  left: 0px;\n",
       "  z-index: 1;\n",
       "}\n",
       "#T_8f66e_row0_col0, #T_8f66e_row1_col6, #T_8f66e_row2_col14 {\n",
       "  background-color: #edeff1;\n",
       "  color: #000000;\n",
       "}\n",
       "#T_8f66e_row0_col1, #T_8f66e_row0_col9, #T_8f66e_row1_col15, #T_8f66e_row2_col13 {\n",
       "  background-color: #f2ebeb;\n",
       "  color: #000000;\n",
       "}\n",
       "#T_8f66e_row0_col2, #T_8f66e_row0_col3, #T_8f66e_row0_col19, #T_8f66e_row1_col12, #T_8f66e_row1_col19, #T_8f66e_row2_col4 {\n",
       "  background-color: #f1f1f2;\n",
       "  color: #000000;\n",
       "}\n",
       "#T_8f66e_row0_col4, #T_8f66e_row0_col6, #T_8f66e_row0_col8, #T_8f66e_row1_col11, #T_8f66e_row2_col7, #T_8f66e_row2_col15, #T_8f66e_row2_col19 {\n",
       "  background-color: #f2f1f1;\n",
       "  color: #000000;\n",
       "}\n",
       "#T_8f66e_row0_col5 {\n",
       "  background-color: #dae3e9;\n",
       "  color: #000000;\n",
       "}\n",
       "#T_8f66e_row0_col7, #T_8f66e_row1_col3, #T_8f66e_row1_col4, #T_8f66e_row1_col10, #T_8f66e_row1_col23, #T_8f66e_row2_col17 {\n",
       "  background-color: #f2efef;\n",
       "  color: #000000;\n",
       "}\n",
       "#T_8f66e_row0_col10, #T_8f66e_row1_col8, #T_8f66e_row1_col9, #T_8f66e_row1_col22, #T_8f66e_row2_col9 {\n",
       "  background-color: #f2eded;\n",
       "  color: #000000;\n",
       "}\n",
       "#T_8f66e_row0_col11 {\n",
       "  background-color: #efd7d9;\n",
       "  color: #000000;\n",
       "}\n",
       "#T_8f66e_row0_col12, #T_8f66e_row0_col17, #T_8f66e_row1_col16, #T_8f66e_row2_col2, #T_8f66e_row2_col3, #T_8f66e_row2_col8, #T_8f66e_row2_col10 {\n",
       "  background-color: #f1e8e9;\n",
       "  color: #000000;\n",
       "}\n",
       "#T_8f66e_row0_col13, #T_8f66e_row2_col18 {\n",
       "  background-color: #e8ecef;\n",
       "  color: #000000;\n",
       "}\n",
       "#T_8f66e_row0_col14, #T_8f66e_row0_col15, #T_8f66e_row2_col21 {\n",
       "  background-color: #e5eaee;\n",
       "  color: #000000;\n",
       "}\n",
       "#T_8f66e_row0_col16, #T_8f66e_row2_col0, #T_8f66e_row2_col23 {\n",
       "  background-color: #f2eeee;\n",
       "  color: #000000;\n",
       "}\n",
       "#T_8f66e_row0_col18, #T_8f66e_row1_col20, #T_8f66e_row2_col12 {\n",
       "  background-color: #e9edf0;\n",
       "  color: #000000;\n",
       "}\n",
       "#T_8f66e_row0_col20, #T_8f66e_row0_col23, #T_8f66e_row1_col13, #T_8f66e_row1_col14, #T_8f66e_row2_col6, #T_8f66e_row2_col11 {\n",
       "  background-color: #eceef1;\n",
       "  color: #000000;\n",
       "}\n",
       "#T_8f66e_row0_col21, #T_8f66e_row1_col17 {\n",
       "  background-color: #e4e9ed;\n",
       "  color: #000000;\n",
       "}\n",
       "#T_8f66e_row0_col22 {\n",
       "  background-color: #e1e7ec;\n",
       "  color: #000000;\n",
       "}\n",
       "#T_8f66e_row1_col0, #T_8f66e_row1_col1, #T_8f66e_row1_col5, #T_8f66e_row1_col18 {\n",
       "  background-color: #f1eaea;\n",
       "  color: #000000;\n",
       "}\n",
       "#T_8f66e_row1_col2 {\n",
       "  background-color: #f1e7e7;\n",
       "  color: #000000;\n",
       "}\n",
       "#T_8f66e_row1_col7, #T_8f66e_row2_col5, #T_8f66e_row2_col20 {\n",
       "  background-color: #e7ebee;\n",
       "  color: #000000;\n",
       "}\n",
       "#T_8f66e_row1_col21 {\n",
       "  background-color: #ebeef0;\n",
       "  color: #000000;\n",
       "}\n",
       "#T_8f66e_row2_col1 {\n",
       "  background-color: #eff0f2;\n",
       "  color: #000000;\n",
       "}\n",
       "#T_8f66e_row2_col16 {\n",
       "  background-color: #eecdcf;\n",
       "  color: #000000;\n",
       "}\n",
       "#T_8f66e_row2_col22 {\n",
       "  background-color: #f0ddde;\n",
       "  color: #000000;\n",
       "}\n",
       "</style>\n",
       "<table id=\"T_8f66e\">\n",
       "  <thead>\n",
       "    <tr>\n",
       "      <th class=\"blank level0\" >&nbsp;</th>\n",
       "      <th id=\"T_8f66e_level0_col0\" class=\"col_heading level0 col0\" >▁I_0</th>\n",
       "      <th id=\"T_8f66e_level0_col1\" class=\"col_heading level0 col1\" >▁first</th>\n",
       "      <th id=\"T_8f66e_level0_col2\" class=\"col_heading level0 col2\" >▁thought_0</th>\n",
       "      <th id=\"T_8f66e_level0_col3\" class=\"col_heading level0 col3\" >▁that</th>\n",
       "      <th id=\"T_8f66e_level0_col4\" class=\"col_heading level0 col4\" >▁I_1</th>\n",
       "      <th id=\"T_8f66e_level0_col5\" class=\"col_heading level0 col5\" >▁liked</th>\n",
       "      <th id=\"T_8f66e_level0_col6\" class=\"col_heading level0 col6\" >▁the</th>\n",
       "      <th id=\"T_8f66e_level0_col7\" class=\"col_heading level0 col7\" >▁movie_0</th>\n",
       "      <th id=\"T_8f66e_level0_col8\" class=\"col_heading level0 col8\" >,</th>\n",
       "      <th id=\"T_8f66e_level0_col9\" class=\"col_heading level0 col9\" >▁but</th>\n",
       "      <th id=\"T_8f66e_level0_col10\" class=\"col_heading level0 col10\" >▁upon</th>\n",
       "      <th id=\"T_8f66e_level0_col11\" class=\"col_heading level0 col11\" >▁second</th>\n",
       "      <th id=\"T_8f66e_level0_col12\" class=\"col_heading level0 col12\" >▁thought_1</th>\n",
       "      <th id=\"T_8f66e_level0_col13\" class=\"col_heading level0 col13\" >▁it</th>\n",
       "      <th id=\"T_8f66e_level0_col14\" class=\"col_heading level0 col14\" >▁was_0</th>\n",
       "      <th id=\"T_8f66e_level0_col15\" class=\"col_heading level0 col15\" >▁actually</th>\n",
       "      <th id=\"T_8f66e_level0_col16\" class=\"col_heading level0 col16\" >▁disappointing</th>\n",
       "      <th id=\"T_8f66e_level0_col17\" class=\"col_heading level0 col17\" >._0</th>\n",
       "      <th id=\"T_8f66e_level0_col18\" class=\"col_heading level0 col18\" >[SEP]</th>\n",
       "      <th id=\"T_8f66e_level0_col19\" class=\"col_heading level0 col19\" >▁The</th>\n",
       "      <th id=\"T_8f66e_level0_col20\" class=\"col_heading level0 col20\" >▁movie_1</th>\n",
       "      <th id=\"T_8f66e_level0_col21\" class=\"col_heading level0 col21\" >▁was_1</th>\n",
       "      <th id=\"T_8f66e_level0_col22\" class=\"col_heading level0 col22\" >▁good</th>\n",
       "      <th id=\"T_8f66e_level0_col23\" class=\"col_heading level0 col23\" >._1</th>\n",
       "    </tr>\n",
       "  </thead>\n",
       "  <tbody>\n",
       "    <tr>\n",
       "      <th id=\"T_8f66e_level0_row0\" class=\"row_heading level0 row0\" >Integrated Gradient (x Input)</th>\n",
       "      <td id=\"T_8f66e_row0_col0\" class=\"data row0 col0\" >-0.02</td>\n",
       "      <td id=\"T_8f66e_row0_col1\" class=\"data row0 col1\" >0.04</td>\n",
       "      <td id=\"T_8f66e_row0_col2\" class=\"data row0 col2\" >-0.00</td>\n",
       "      <td id=\"T_8f66e_row0_col3\" class=\"data row0 col3\" >-0.00</td>\n",
       "      <td id=\"T_8f66e_row0_col4\" class=\"data row0 col4\" >0.01</td>\n",
       "      <td id=\"T_8f66e_row0_col5\" class=\"data row0 col5\" >-0.13</td>\n",
       "      <td id=\"T_8f66e_row0_col6\" class=\"data row0 col6\" >0.00</td>\n",
       "      <td id=\"T_8f66e_row0_col7\" class=\"data row0 col7\" >0.01</td>\n",
       "      <td id=\"T_8f66e_row0_col8\" class=\"data row0 col8\" >0.00</td>\n",
       "      <td id=\"T_8f66e_row0_col9\" class=\"data row0 col9\" >0.03</td>\n",
       "      <td id=\"T_8f66e_row0_col10\" class=\"data row0 col10\" >0.03</td>\n",
       "      <td id=\"T_8f66e_row0_col11\" class=\"data row0 col11\" >0.15</td>\n",
       "      <td id=\"T_8f66e_row0_col12\" class=\"data row0 col12\" >0.05</td>\n",
       "      <td id=\"T_8f66e_row0_col13\" class=\"data row0 col13\" >-0.05</td>\n",
       "      <td id=\"T_8f66e_row0_col14\" class=\"data row0 col14\" >-0.06</td>\n",
       "      <td id=\"T_8f66e_row0_col15\" class=\"data row0 col15\" >-0.06</td>\n",
       "      <td id=\"T_8f66e_row0_col16\" class=\"data row0 col16\" >0.02</td>\n",
       "      <td id=\"T_8f66e_row0_col17\" class=\"data row0 col17\" >0.05</td>\n",
       "      <td id=\"T_8f66e_row0_col18\" class=\"data row0 col18\" >-0.04</td>\n",
       "      <td id=\"T_8f66e_row0_col19\" class=\"data row0 col19\" >-0.00</td>\n",
       "      <td id=\"T_8f66e_row0_col20\" class=\"data row0 col20\" >-0.02</td>\n",
       "      <td id=\"T_8f66e_row0_col21\" class=\"data row0 col21\" >-0.08</td>\n",
       "      <td id=\"T_8f66e_row0_col22\" class=\"data row0 col22\" >-0.09</td>\n",
       "      <td id=\"T_8f66e_row0_col23\" class=\"data row0 col23\" >-0.03</td>\n",
       "    </tr>\n",
       "    <tr>\n",
       "      <th id=\"T_8f66e_level0_row1\" class=\"row_heading level0 row1\" >Gradient (x Input)</th>\n",
       "      <td id=\"T_8f66e_row1_col0\" class=\"data row1 col0\" >0.04</td>\n",
       "      <td id=\"T_8f66e_row1_col1\" class=\"data row1 col1\" >0.04</td>\n",
       "      <td id=\"T_8f66e_row1_col2\" class=\"data row1 col2\" >0.06</td>\n",
       "      <td id=\"T_8f66e_row1_col3\" class=\"data row1 col3\" >0.01</td>\n",
       "      <td id=\"T_8f66e_row1_col4\" class=\"data row1 col4\" >0.01</td>\n",
       "      <td id=\"T_8f66e_row1_col5\" class=\"data row1 col5\" >0.04</td>\n",
       "      <td id=\"T_8f66e_row1_col6\" class=\"data row1 col6\" >-0.02</td>\n",
       "      <td id=\"T_8f66e_row1_col7\" class=\"data row1 col7\" >-0.06</td>\n",
       "      <td id=\"T_8f66e_row1_col8\" class=\"data row1 col8\" >0.02</td>\n",
       "      <td id=\"T_8f66e_row1_col9\" class=\"data row1 col9\" >0.03</td>\n",
       "      <td id=\"T_8f66e_row1_col10\" class=\"data row1 col10\" >0.01</td>\n",
       "      <td id=\"T_8f66e_row1_col11\" class=\"data row1 col11\" >0.00</td>\n",
       "      <td id=\"T_8f66e_row1_col12\" class=\"data row1 col12\" >-0.00</td>\n",
       "      <td id=\"T_8f66e_row1_col13\" class=\"data row1 col13\" >-0.02</td>\n",
       "      <td id=\"T_8f66e_row1_col14\" class=\"data row1 col14\" >-0.03</td>\n",
       "      <td id=\"T_8f66e_row1_col15\" class=\"data row1 col15\" >0.03</td>\n",
       "      <td id=\"T_8f66e_row1_col16\" class=\"data row1 col16\" >0.05</td>\n",
       "      <td id=\"T_8f66e_row1_col17\" class=\"data row1 col17\" >-0.08</td>\n",
       "      <td id=\"T_8f66e_row1_col18\" class=\"data row1 col18\" >0.04</td>\n",
       "      <td id=\"T_8f66e_row1_col19\" class=\"data row1 col19\" >-0.01</td>\n",
       "      <td id=\"T_8f66e_row1_col20\" class=\"data row1 col20\" >-0.04</td>\n",
       "      <td id=\"T_8f66e_row1_col21\" class=\"data row1 col21\" >-0.03</td>\n",
       "      <td id=\"T_8f66e_row1_col22\" class=\"data row1 col22\" >0.03</td>\n",
       "      <td id=\"T_8f66e_row1_col23\" class=\"data row1 col23\" >0.01</td>\n",
       "    </tr>\n",
       "    <tr>\n",
       "      <th id=\"T_8f66e_level0_row2\" class=\"row_heading level0 row2\" >LIME</th>\n",
       "      <td id=\"T_8f66e_row2_col0\" class=\"data row2 col0\" >0.02</td>\n",
       "      <td id=\"T_8f66e_row2_col1\" class=\"data row2 col1\" >-0.01</td>\n",
       "      <td id=\"T_8f66e_row2_col2\" class=\"data row2 col2\" >0.05</td>\n",
       "      <td id=\"T_8f66e_row2_col3\" class=\"data row2 col3\" >0.05</td>\n",
       "      <td id=\"T_8f66e_row2_col4\" class=\"data row2 col4\" >-0.00</td>\n",
       "      <td id=\"T_8f66e_row2_col5\" class=\"data row2 col5\" >-0.06</td>\n",
       "      <td id=\"T_8f66e_row2_col6\" class=\"data row2 col6\" >-0.03</td>\n",
       "      <td id=\"T_8f66e_row2_col7\" class=\"data row2 col7\" >0.00</td>\n",
       "      <td id=\"T_8f66e_row2_col8\" class=\"data row2 col8\" >0.05</td>\n",
       "      <td id=\"T_8f66e_row2_col9\" class=\"data row2 col9\" >0.03</td>\n",
       "      <td id=\"T_8f66e_row2_col10\" class=\"data row2 col10\" >0.05</td>\n",
       "      <td id=\"T_8f66e_row2_col11\" class=\"data row2 col11\" >-0.03</td>\n",
       "      <td id=\"T_8f66e_row2_col12\" class=\"data row2 col12\" >-0.04</td>\n",
       "      <td id=\"T_8f66e_row2_col13\" class=\"data row2 col13\" >0.04</td>\n",
       "      <td id=\"T_8f66e_row2_col14\" class=\"data row2 col14\" >-0.02</td>\n",
       "      <td id=\"T_8f66e_row2_col15\" class=\"data row2 col15\" >0.00</td>\n",
       "      <td id=\"T_8f66e_row2_col16\" class=\"data row2 col16\" >0.20</td>\n",
       "      <td id=\"T_8f66e_row2_col17\" class=\"data row2 col17\" >0.01</td>\n",
       "      <td id=\"T_8f66e_row2_col18\" class=\"data row2 col18\" >-0.05</td>\n",
       "      <td id=\"T_8f66e_row2_col19\" class=\"data row2 col19\" >0.01</td>\n",
       "      <td id=\"T_8f66e_row2_col20\" class=\"data row2 col20\" >-0.06</td>\n",
       "      <td id=\"T_8f66e_row2_col21\" class=\"data row2 col21\" >-0.07</td>\n",
       "      <td id=\"T_8f66e_row2_col22\" class=\"data row2 col22\" >0.11</td>\n",
       "      <td id=\"T_8f66e_row2_col23\" class=\"data row2 col23\" >0.02</td>\n",
       "    </tr>\n",
       "  </tbody>\n",
       "</table>\n"
      ],
      "text/plain": [
       "<pandas.io.formats.style.Styler at 0x7fb6b2d4f520>"
      ]
     },
     "execution_count": 10,
     "metadata": {},
     "output_type": "execute_result"
    }
   ],
   "source": [
    "# show explanations\n",
    "bench.show_table(exp)"
   ]
  },
  {
   "cell_type": "code",
   "execution_count": 12,
   "metadata": {},
   "outputs": [
    {
     "name": "stderr",
     "output_type": "stream",
     "text": [
      "                                                                                                                                                         \r"
     ]
    },
    {
     "data": {
      "text/html": [
       "<style type=\"text/css\">\n",
       "#T_861b8 thead tr th:nth-child(1) {\n",
       "  position: sticky;\n",
       "  background-color: inherit;\n",
       "  left: 0px;\n",
       "  z-index: 3 !important;\n",
       "}\n",
       "#T_861b8 tbody tr th:nth-child(1) {\n",
       "  position: sticky;\n",
       "  background-color: inherit;\n",
       "  left: 0px;\n",
       "  z-index: 1;\n",
       "}\n",
       "#T_861b8_row0_col0 {\n",
       "  background-color: #a044a0;\n",
       "  color: #f1f1f1;\n",
       "}\n",
       "#T_861b8_row0_col1 {\n",
       "  background-color: #c58bc5;\n",
       "  color: #f1f1f1;\n",
       "}\n",
       "#T_861b8_row0_col2 {\n",
       "  background-color: #bb7bbb;\n",
       "  color: #f1f1f1;\n",
       "}\n",
       "#T_861b8_row1_col0 {\n",
       "  background-color: #8f208f;\n",
       "  color: #f1f1f1;\n",
       "}\n",
       "#T_861b8_row1_col1 {\n",
       "  background-color: #bc79bc;\n",
       "  color: #f1f1f1;\n",
       "}\n",
       "#T_861b8_row1_col2 {\n",
       "  background-color: #a348a3;\n",
       "  color: #f1f1f1;\n",
       "}\n",
       "#T_861b8_row2_col0 {\n",
       "  background-color: #972f97;\n",
       "  color: #f1f1f1;\n",
       "}\n",
       "#T_861b8_row2_col1 {\n",
       "  background-color: #9d3b9d;\n",
       "  color: #f1f1f1;\n",
       "}\n",
       "#T_861b8_row2_col2 {\n",
       "  background-color: #9b389b;\n",
       "  color: #f1f1f1;\n",
       "}\n",
       "</style>\n",
       "<table id=\"T_861b8\">\n",
       "  <thead>\n",
       "    <tr>\n",
       "      <th class=\"blank level0\" >&nbsp;</th>\n",
       "      <th id=\"T_861b8_level0_col0\" class=\"col_heading level0 col0\" >aopc_compr</th>\n",
       "      <th id=\"T_861b8_level0_col1\" class=\"col_heading level0 col1\" >aopc_suff</th>\n",
       "      <th id=\"T_861b8_level0_col2\" class=\"col_heading level0 col2\" >taucorr_loo</th>\n",
       "    </tr>\n",
       "    <tr>\n",
       "      <th class=\"index_name level0\" >Explainer</th>\n",
       "      <th class=\"blank col0\" >&nbsp;</th>\n",
       "      <th class=\"blank col1\" >&nbsp;</th>\n",
       "      <th class=\"blank col2\" >&nbsp;</th>\n",
       "    </tr>\n",
       "  </thead>\n",
       "  <tbody>\n",
       "    <tr>\n",
       "      <th id=\"T_861b8_level0_row0\" class=\"row_heading level0 row0\" >Integrated Gradient (x Input)</th>\n",
       "      <td id=\"T_861b8_row0_col0\" class=\"data row0 col0\" >0.43</td>\n",
       "      <td id=\"T_861b8_row0_col1\" class=\"data row0 col1\" >0.54</td>\n",
       "      <td id=\"T_861b8_row0_col2\" class=\"data row0 col2\" >-0.03</td>\n",
       "    </tr>\n",
       "    <tr>\n",
       "      <th id=\"T_861b8_level0_row1\" class=\"row_heading level0 row1\" >Gradient (x Input)</th>\n",
       "      <td id=\"T_861b8_row1_col0\" class=\"data row1 col0\" >0.73</td>\n",
       "      <td id=\"T_861b8_row1_col1\" class=\"data row1 col1\" >0.47</td>\n",
       "      <td id=\"T_861b8_row1_col2\" class=\"data row1 col2\" >0.39</td>\n",
       "    </tr>\n",
       "    <tr>\n",
       "      <th id=\"T_861b8_level0_row2\" class=\"row_heading level0 row2\" >LIME</th>\n",
       "      <td id=\"T_861b8_row2_col0\" class=\"data row2 col0\" >0.60</td>\n",
       "      <td id=\"T_861b8_row2_col1\" class=\"data row2 col1\" >-0.23</td>\n",
       "      <td id=\"T_861b8_row2_col2\" class=\"data row2 col2\" >0.53</td>\n",
       "    </tr>\n",
       "  </tbody>\n",
       "</table>\n"
      ],
      "text/plain": [
       "<pandas.io.formats.style.Styler at 0x7fb6b2d4e9b0>"
      ]
     },
     "execution_count": 12,
     "metadata": {},
     "output_type": "execute_result"
    }
   ],
   "source": [
    "# evaluate explanations and show faithfulness metrics\n",
    "bench.show_evaluation_table(bench.evaluate_explanations(exp, target=\"contradiction\"))"
   ]
  }
 ],
 "metadata": {
  "kernelspec": {
   "display_name": "Python 3 (ipykernel)",
   "language": "python",
   "name": "python3"
  },
  "language_info": {
   "codemirror_mode": {
    "name": "ipython",
    "version": 3
   },
   "file_extension": ".py",
   "mimetype": "text/x-python",
   "name": "python",
   "nbconvert_exporter": "python",
   "pygments_lexer": "ipython3",
   "version": "3.10.0"
  },
  "vscode": {
   "interpreter": {
    "hash": "78645345e5495b5ada400086274ed52038b33bbda7f86ad5b81938b6e8cf303a"
   }
  }
 },
 "nbformat": 4,
 "nbformat_minor": 4
}
