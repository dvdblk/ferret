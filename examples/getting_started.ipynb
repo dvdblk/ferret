{
 "cells": [
  {
   "cell_type": "markdown",
   "id": "9d24491a",
   "metadata": {},
   "source": [
    "# Introduction to *ferret*\n",
    "\n",
    "Hi there! This notebook will guide you through the basic functionalities of *ferret*, using as an example the Sentiment Classification task.\n",
    "\n",
    "Specifically, you will see how to:\n",
    "\n",
    "- load a model from the Hugging Face Hub into our `Benchmark` client interface;\n",
    "- use the class to explain a text query using all the supported post-hoc feature attribution methods;\n",
    "- visualize the explanations in tabular format;\n",
    "- **evaluate** all the explanations over the metrics (faithfulness and plausibility).\n",
    "\n",
    "Scroll over to know more 😉"
   ]
  },
  {
   "cell_type": "code",
   "execution_count": 1,
   "id": "52852519-03d4-4f7e-8a73-8c80786d5646",
   "metadata": {},
   "outputs": [],
   "source": [
    "%load_ext autoreload\n",
    "%autoreload 2"
   ]
  },
  {
   "cell_type": "code",
   "execution_count": 6,
   "id": "14d18989-fda4-4f8d-b265-2992d9062e99",
   "metadata": {},
   "outputs": [],
   "source": [
    "from transformers import AutoTokenizer, AutoModelForSequenceClassification\n",
    "from ferret import Benchmark\n",
    "import numpy as np\n",
    "import torch"
   ]
  },
  {
   "cell_type": "markdown",
   "id": "bac7579e",
   "metadata": {},
   "source": [
    "For the purpose of this tutorial, we will use the sentiment classification model `cardiffnlp/twitter-xlm-roberta-base-sentiment`."
   ]
  },
  {
   "cell_type": "code",
   "execution_count": 7,
   "id": "d537c947-682e-49fd-92d2-bd823bb90808",
   "metadata": {},
   "outputs": [],
   "source": [
    "device = \"cuda:0\" if torch.cuda.is_available() else \"cpu\"\n",
    "name = \"cardiffnlp/twitter-xlm-roberta-base-sentiment\"\n",
    "model = AutoModelForSequenceClassification.from_pretrained(name).to(device)\n",
    "tokenizer = AutoTokenizer.from_pretrained(name)"
   ]
  },
  {
   "cell_type": "markdown",
   "id": "593830f1",
   "metadata": {},
   "source": [
    "## Explain a single instance"
   ]
  },
  {
   "cell_type": "markdown",
   "id": "7370ffd4",
   "metadata": {},
   "source": [
    "The fastest way to get started with *ferret* is using the `Benchmark` interface class. Starting from v0.5.0, the method accepts a `task_name` parameter to support different NLP tasks. By default, `task_name` is set to `text-classification`. "
   ]
  },
  {
   "cell_type": "code",
   "execution_count": 9,
   "id": "737c9329",
   "metadata": {},
   "outputs": [],
   "source": [
    "bench = Benchmark(model, tokenizer)"
   ]
  },
  {
   "cell_type": "markdown",
   "id": "28e87b0c-4c6a-4aa7-afff-b16cd50ba79a",
   "metadata": {},
   "source": [
    "Since we are considering a text classification task, let's use the benchmark object to assign class probabilities."
   ]
  },
  {
   "cell_type": "code",
   "execution_count": 11,
   "id": "4ac86b05-b29b-4ac3-9c71-5e13748dd3e3",
   "metadata": {},
   "outputs": [
    {
     "name": "stdout",
     "output_type": "stream",
     "text": [
      "{'negative': 0.012691126205027103, 'neutral': 0.061643846333026886, 'positive': 0.925665020942688}\n"
     ]
    }
   ],
   "source": [
    "text = \"I love your style!\"\n",
    "scores = bench.score(text)\n",
    "print(scores)"
   ]
  },
  {
   "cell_type": "markdown",
   "id": "c75cc6b5",
   "metadata": {},
   "source": [
    "Extracting post-hoc explanations with all the supported methods and standard parameters is as easy as:"
   ]
  },
  {
   "cell_type": "code",
   "execution_count": 13,
   "id": "94c4f140",
   "metadata": {},
   "outputs": [
    {
     "name": "stderr",
     "output_type": "stream",
     "text": [
      "Explainer:  17%|█████████████████▊                                                                                         | 1/6 [00:02<00:14,  2.94s/it]\n",
      "Batch:   0%|                                                                                                                       | 0/7 [00:00<?, ?it/s]\u001b[A\n",
      "Batch:  86%|███████████████████████████████████████████████████████████████████████████████████████████████▏               | 6/7 [00:00<00:00, 58.18it/s]\u001b[A\n",
      "                                                                                                                                                         \u001b[A\r"
     ]
    }
   ],
   "source": [
    "explanations = bench.explain(text, target=\"positive\")"
   ]
  },
  {
   "cell_type": "markdown",
   "id": "85978350-b79f-4df5-98e8-d219969536f9",
   "metadata": {},
   "source": [
    "Note that we are explicitly asking for the attribution scores relative to the `positive` class. Roughly, a positive score indicates that the token *pushed* the prediction toward that class, otherwise a negative one *pulled it away* from it."
   ]
  },
  {
   "cell_type": "code",
   "execution_count": 14,
   "id": "8a1ba65b",
   "metadata": {},
   "outputs": [
    {
     "data": {
      "text/plain": [
       "[Explanation(text=['I love your style!'], tokens=['<s>', '▁I', '▁love', '▁your', '▁style', '!', '</s>'], scores=array([ 0.        , -0.05859814,  0.42798148,  0.08728391,  0.19652878,\n",
       "         0.2296077 ,  0.        ]), explainer='Partition SHAP', target_pos_idx=2, helper_type='sequence-classification', target_token_pos_idx=None, target='positive', target_token=None),\n",
       " Explanation(text=['I love your style!'], tokens=['<s>', '▁I', '▁love', '▁your', '▁style', '!', '</s>'], scores=array([0.        , 0.046511  , 0.42884937, 0.10180191, 0.20548557,\n",
       "        0.21735215, 0.        ]), explainer='LIME', target_pos_idx=2, helper_type='sequence-classification', target_token_pos_idx=None, target='positive', target_token=None),\n",
       " Explanation(text=['I love your style!'], tokens=['<s>', '▁I', '▁love', '▁your', '▁style', '!', '</s>'], scores=array([0.10165081, 0.07546063, 0.16653863, 0.11737087, 0.3520872 ,\n",
       "        0.0746433 , 0.11224855], dtype=float32), explainer='Gradient', target_pos_idx=2, helper_type='sequence-classification', target_token_pos_idx=None, target='positive', target_token=None),\n",
       " Explanation(text=['I love your style!'], tokens=['<s>', '▁I', '▁love', '▁your', '▁style', '!', '</s>'], scores=array([ 0.16055658, -0.0241695 ,  0.0817923 , -0.31940025,  0.22262391,\n",
       "         0.07629599,  0.11516144], dtype=float32), explainer='Gradient (x Input)', target_pos_idx=2, helper_type='sequence-classification', target_token_pos_idx=None, target='positive', target_token=None),\n",
       " Explanation(text=['I love your style!'], tokens=['<s>', '▁I', '▁love', '▁your', '▁style', '!', '</s>'], scores=array([-0.031352  , -0.03253895, -0.03717695, -0.14879898,  0.30453521,\n",
       "        -0.14426596,  0.30133195]), explainer='Integrated Gradient', target_pos_idx=2, helper_type='sequence-classification', target_token_pos_idx=None, target='positive', target_token=None),\n",
       " Explanation(text=['I love your style!'], tokens=['<s>', '▁I', '▁love', '▁your', '▁style', '!', '</s>'], scores=array([0.        , 0.00650782, 0.22866393, 0.07837251, 0.03078611,\n",
       "        0.65566962, 0.        ]), explainer='Integrated Gradient (x Input)', target_pos_idx=2, helper_type='sequence-classification', target_token_pos_idx=None, target='positive', target_token=None)]"
      ]
     },
     "execution_count": 14,
     "metadata": {},
     "output_type": "execute_result"
    }
   ],
   "source": [
    "explanations"
   ]
  },
  {
   "cell_type": "markdown",
   "id": "ac9f79e2",
   "metadata": {},
   "source": [
    "Let's visualize the results."
   ]
  },
  {
   "cell_type": "code",
   "execution_count": 16,
   "id": "18800ed9",
   "metadata": {},
   "outputs": [
    {
     "data": {
      "text/html": [
       "<style type=\"text/css\">\n",
       "#T_806b1 thead tr th:nth-child(1) {\n",
       "  position: sticky;\n",
       "  background-color: inherit;\n",
       "  left: 0px;\n",
       "  z-index: 3 !important;\n",
       "}\n",
       "#T_806b1 tbody tr th:nth-child(1) {\n",
       "  position: sticky;\n",
       "  background-color: inherit;\n",
       "  left: 0px;\n",
       "  z-index: 1;\n",
       "}\n",
       "#T_806b1_row0_col0 {\n",
       "  background-color: #e7ebee;\n",
       "  color: #000000;\n",
       "}\n",
       "#T_806b1_row0_col1, #T_806b1_row1_col1 {\n",
       "  background-color: #e8a4a9;\n",
       "  color: #000000;\n",
       "}\n",
       "#T_806b1_row0_col2 {\n",
       "  background-color: #f0e1e2;\n",
       "  color: #000000;\n",
       "}\n",
       "#T_806b1_row0_col3 {\n",
       "  background-color: #eecdcf;\n",
       "  color: #000000;\n",
       "}\n",
       "#T_806b1_row0_col4, #T_806b1_row5_col1 {\n",
       "  background-color: #edc7ca;\n",
       "  color: #000000;\n",
       "}\n",
       "#T_806b1_row1_col0 {\n",
       "  background-color: #f1eaea;\n",
       "  color: #000000;\n",
       "}\n",
       "#T_806b1_row1_col2 {\n",
       "  background-color: #f0dedf;\n",
       "  color: #000000;\n",
       "}\n",
       "#T_806b1_row1_col3 {\n",
       "  background-color: #edccce;\n",
       "  color: #000000;\n",
       "}\n",
       "#T_806b1_row1_col4 {\n",
       "  background-color: #edcacd;\n",
       "  color: #000000;\n",
       "}\n",
       "#T_806b1_row2_col0, #T_806b1_row2_col4, #T_806b1_row3_col4 {\n",
       "  background-color: #f1e4e5;\n",
       "  color: #000000;\n",
       "}\n",
       "#T_806b1_row2_col1 {\n",
       "  background-color: #eed3d5;\n",
       "  color: #000000;\n",
       "}\n",
       "#T_806b1_row2_col2 {\n",
       "  background-color: #efdbdd;\n",
       "  color: #000000;\n",
       "}\n",
       "#T_806b1_row2_col3 {\n",
       "  background-color: #eab0b5;\n",
       "  color: #000000;\n",
       "}\n",
       "#T_806b1_row3_col0 {\n",
       "  background-color: #eceef1;\n",
       "  color: #000000;\n",
       "}\n",
       "#T_806b1_row3_col1, #T_806b1_row5_col2 {\n",
       "  background-color: #f0e3e3;\n",
       "  color: #000000;\n",
       "}\n",
       "#T_806b1_row3_col2 {\n",
       "  background-color: #b9ccdb;\n",
       "  color: #000000;\n",
       "}\n",
       "#T_806b1_row3_col3 {\n",
       "  background-color: #edc9cb;\n",
       "  color: #000000;\n",
       "}\n",
       "#T_806b1_row4_col0, #T_806b1_row4_col1 {\n",
       "  background-color: #ebeef0;\n",
       "  color: #000000;\n",
       "}\n",
       "#T_806b1_row4_col2 {\n",
       "  background-color: #d6e0e7;\n",
       "  color: #000000;\n",
       "}\n",
       "#T_806b1_row4_col3 {\n",
       "  background-color: #ebbbbe;\n",
       "  color: #000000;\n",
       "}\n",
       "#T_806b1_row4_col4 {\n",
       "  background-color: #d8e1e8;\n",
       "  color: #000000;\n",
       "}\n",
       "#T_806b1_row5_col0 {\n",
       "  background-color: #f2f1f1;\n",
       "  color: #000000;\n",
       "}\n",
       "#T_806b1_row5_col3 {\n",
       "  background-color: #f2eded;\n",
       "  color: #000000;\n",
       "}\n",
       "#T_806b1_row5_col4 {\n",
       "  background-color: #e27981;\n",
       "  color: #f1f1f1;\n",
       "}\n",
       "</style>\n",
       "<table id=\"T_806b1\">\n",
       "  <thead>\n",
       "    <tr>\n",
       "      <th class=\"blank level0\" >&nbsp;</th>\n",
       "      <th id=\"T_806b1_level0_col0\" class=\"col_heading level0 col0\" >▁I</th>\n",
       "      <th id=\"T_806b1_level0_col1\" class=\"col_heading level0 col1\" >▁love</th>\n",
       "      <th id=\"T_806b1_level0_col2\" class=\"col_heading level0 col2\" >▁your</th>\n",
       "      <th id=\"T_806b1_level0_col3\" class=\"col_heading level0 col3\" >▁style</th>\n",
       "      <th id=\"T_806b1_level0_col4\" class=\"col_heading level0 col4\" >!</th>\n",
       "    </tr>\n",
       "  </thead>\n",
       "  <tbody>\n",
       "    <tr>\n",
       "      <th id=\"T_806b1_level0_row0\" class=\"row_heading level0 row0\" >Partition SHAP</th>\n",
       "      <td id=\"T_806b1_row0_col0\" class=\"data row0 col0\" >-0.06</td>\n",
       "      <td id=\"T_806b1_row0_col1\" class=\"data row0 col1\" >0.43</td>\n",
       "      <td id=\"T_806b1_row0_col2\" class=\"data row0 col2\" >0.09</td>\n",
       "      <td id=\"T_806b1_row0_col3\" class=\"data row0 col3\" >0.20</td>\n",
       "      <td id=\"T_806b1_row0_col4\" class=\"data row0 col4\" >0.23</td>\n",
       "    </tr>\n",
       "    <tr>\n",
       "      <th id=\"T_806b1_level0_row1\" class=\"row_heading level0 row1\" >LIME</th>\n",
       "      <td id=\"T_806b1_row1_col0\" class=\"data row1 col0\" >0.05</td>\n",
       "      <td id=\"T_806b1_row1_col1\" class=\"data row1 col1\" >0.43</td>\n",
       "      <td id=\"T_806b1_row1_col2\" class=\"data row1 col2\" >0.10</td>\n",
       "      <td id=\"T_806b1_row1_col3\" class=\"data row1 col3\" >0.21</td>\n",
       "      <td id=\"T_806b1_row1_col4\" class=\"data row1 col4\" >0.22</td>\n",
       "    </tr>\n",
       "    <tr>\n",
       "      <th id=\"T_806b1_level0_row2\" class=\"row_heading level0 row2\" >Gradient</th>\n",
       "      <td id=\"T_806b1_row2_col0\" class=\"data row2 col0\" >0.08</td>\n",
       "      <td id=\"T_806b1_row2_col1\" class=\"data row2 col1\" >0.17</td>\n",
       "      <td id=\"T_806b1_row2_col2\" class=\"data row2 col2\" >0.12</td>\n",
       "      <td id=\"T_806b1_row2_col3\" class=\"data row2 col3\" >0.35</td>\n",
       "      <td id=\"T_806b1_row2_col4\" class=\"data row2 col4\" >0.07</td>\n",
       "    </tr>\n",
       "    <tr>\n",
       "      <th id=\"T_806b1_level0_row3\" class=\"row_heading level0 row3\" >Gradient (x Input)</th>\n",
       "      <td id=\"T_806b1_row3_col0\" class=\"data row3 col0\" >-0.02</td>\n",
       "      <td id=\"T_806b1_row3_col1\" class=\"data row3 col1\" >0.08</td>\n",
       "      <td id=\"T_806b1_row3_col2\" class=\"data row3 col2\" >-0.32</td>\n",
       "      <td id=\"T_806b1_row3_col3\" class=\"data row3 col3\" >0.22</td>\n",
       "      <td id=\"T_806b1_row3_col4\" class=\"data row3 col4\" >0.08</td>\n",
       "    </tr>\n",
       "    <tr>\n",
       "      <th id=\"T_806b1_level0_row4\" class=\"row_heading level0 row4\" >Integrated Gradient</th>\n",
       "      <td id=\"T_806b1_row4_col0\" class=\"data row4 col0\" >-0.03</td>\n",
       "      <td id=\"T_806b1_row4_col1\" class=\"data row4 col1\" >-0.04</td>\n",
       "      <td id=\"T_806b1_row4_col2\" class=\"data row4 col2\" >-0.15</td>\n",
       "      <td id=\"T_806b1_row4_col3\" class=\"data row4 col3\" >0.30</td>\n",
       "      <td id=\"T_806b1_row4_col4\" class=\"data row4 col4\" >-0.14</td>\n",
       "    </tr>\n",
       "    <tr>\n",
       "      <th id=\"T_806b1_level0_row5\" class=\"row_heading level0 row5\" >Integrated Gradient (x Input)</th>\n",
       "      <td id=\"T_806b1_row5_col0\" class=\"data row5 col0\" >0.01</td>\n",
       "      <td id=\"T_806b1_row5_col1\" class=\"data row5 col1\" >0.23</td>\n",
       "      <td id=\"T_806b1_row5_col2\" class=\"data row5 col2\" >0.08</td>\n",
       "      <td id=\"T_806b1_row5_col3\" class=\"data row5 col3\" >0.03</td>\n",
       "      <td id=\"T_806b1_row5_col4\" class=\"data row5 col4\" >0.66</td>\n",
       "    </tr>\n",
       "  </tbody>\n",
       "</table>\n"
      ],
      "text/plain": [
       "<pandas.io.formats.style.Styler at 0x7fdbb8b9fd90>"
      ]
     },
     "execution_count": 16,
     "metadata": {},
     "output_type": "execute_result"
    }
   ],
   "source": [
    "bench.show_table(explanations)"
   ]
  },
  {
   "cell_type": "markdown",
   "id": "79dca2c8",
   "metadata": {},
   "source": [
    "## Evaluate explanation of a single instance"
   ]
  },
  {
   "cell_type": "markdown",
   "id": "9e15cf29",
   "metadata": {},
   "source": [
    "Evaluate explanations with all the supported evaluators is straightforward. Remember to specify the `target` parameter to match the one used during the explanation!"
   ]
  },
  {
   "cell_type": "code",
   "execution_count": 17,
   "id": "a8ffe8f6",
   "metadata": {},
   "outputs": [
    {
     "name": "stderr",
     "output_type": "stream",
     "text": [
      "                                                                                                                                                         \r"
     ]
    }
   ],
   "source": [
    "explanation_evaluations = bench.evaluate_explanations(explanations, target=\"positive\")"
   ]
  },
  {
   "cell_type": "markdown",
   "id": "aa0fa638",
   "metadata": {},
   "source": [
    "Again, we can look at the results in a tabular format."
   ]
  },
  {
   "cell_type": "code",
   "execution_count": 18,
   "id": "fa3d689f",
   "metadata": {},
   "outputs": [
    {
     "data": {
      "text/html": [
       "<style type=\"text/css\">\n",
       "#T_79ae0 thead tr th:nth-child(1) {\n",
       "  position: sticky;\n",
       "  background-color: inherit;\n",
       "  left: 0px;\n",
       "  z-index: 3 !important;\n",
       "}\n",
       "#T_79ae0 tbody tr th:nth-child(1) {\n",
       "  position: sticky;\n",
       "  background-color: inherit;\n",
       "  left: 0px;\n",
       "  z-index: 1;\n",
       "}\n",
       "#T_79ae0_row0_col0 {\n",
       "  background-color: #9d3d9d;\n",
       "  color: #f1f1f1;\n",
       "}\n",
       "#T_79ae0_row0_col1 {\n",
       "  background-color: #a449a4;\n",
       "  color: #f1f1f1;\n",
       "}\n",
       "#T_79ae0_row0_col2, #T_79ae0_row1_col2 {\n",
       "  background-color: #973097;\n",
       "  color: #f1f1f1;\n",
       "}\n",
       "#T_79ae0_row1_col0 {\n",
       "  background-color: #9c3a9c;\n",
       "  color: #f1f1f1;\n",
       "}\n",
       "#T_79ae0_row1_col1, #T_79ae0_row5_col1 {\n",
       "  background-color: #9d3b9d;\n",
       "  color: #f1f1f1;\n",
       "}\n",
       "#T_79ae0_row2_col0 {\n",
       "  background-color: #a044a0;\n",
       "  color: #f1f1f1;\n",
       "}\n",
       "#T_79ae0_row2_col1 {\n",
       "  background-color: #9c399c;\n",
       "  color: #f1f1f1;\n",
       "}\n",
       "#T_79ae0_row2_col2, #T_79ae0_row5_col2 {\n",
       "  background-color: #ae60ae;\n",
       "  color: #f1f1f1;\n",
       "}\n",
       "#T_79ae0_row3_col0 {\n",
       "  background-color: #a54da5;\n",
       "  color: #f1f1f1;\n",
       "}\n",
       "#T_79ae0_row3_col1 {\n",
       "  background-color: #b265b2;\n",
       "  color: #f1f1f1;\n",
       "}\n",
       "#T_79ae0_row3_col2 {\n",
       "  background-color: #8b188b;\n",
       "  color: #f1f1f1;\n",
       "}\n",
       "#T_79ae0_row4_col0 {\n",
       "  background-color: #b875b8;\n",
       "  color: #f1f1f1;\n",
       "}\n",
       "#T_79ae0_row4_col1 {\n",
       "  background-color: #cd9bcd;\n",
       "  color: #000000;\n",
       "}\n",
       "#T_79ae0_row4_col2 {\n",
       "  background-color: #a247a2;\n",
       "  color: #f1f1f1;\n",
       "}\n",
       "#T_79ae0_row5_col0 {\n",
       "  background-color: #a043a0;\n",
       "  color: #f1f1f1;\n",
       "}\n",
       "</style>\n",
       "<table id=\"T_79ae0\">\n",
       "  <thead>\n",
       "    <tr>\n",
       "      <th class=\"blank level0\" >&nbsp;</th>\n",
       "      <th id=\"T_79ae0_level0_col0\" class=\"col_heading level0 col0\" >aopc_compr</th>\n",
       "      <th id=\"T_79ae0_level0_col1\" class=\"col_heading level0 col1\" >aopc_suff</th>\n",
       "      <th id=\"T_79ae0_level0_col2\" class=\"col_heading level0 col2\" >taucorr_loo</th>\n",
       "    </tr>\n",
       "    <tr>\n",
       "      <th class=\"index_name level0\" >Explainer</th>\n",
       "      <th class=\"blank col0\" >&nbsp;</th>\n",
       "      <th class=\"blank col1\" >&nbsp;</th>\n",
       "      <th class=\"blank col2\" >&nbsp;</th>\n",
       "    </tr>\n",
       "  </thead>\n",
       "  <tbody>\n",
       "    <tr>\n",
       "      <th id=\"T_79ae0_level0_row0\" class=\"row_heading level0 row0\" >Partition SHAP</th>\n",
       "      <td id=\"T_79ae0_row0_col0\" class=\"data row0 col0\" >0.49</td>\n",
       "      <td id=\"T_79ae0_row0_col1\" class=\"data row0 col1\" >0.28</td>\n",
       "      <td id=\"T_79ae0_row0_col2\" class=\"data row0 col2\" >0.60</td>\n",
       "    </tr>\n",
       "    <tr>\n",
       "      <th id=\"T_79ae0_level0_row1\" class=\"row_heading level0 row1\" >LIME</th>\n",
       "      <td id=\"T_79ae0_row1_col0\" class=\"data row1 col0\" >0.51</td>\n",
       "      <td id=\"T_79ae0_row1_col1\" class=\"data row1 col1\" >0.23</td>\n",
       "      <td id=\"T_79ae0_row1_col2\" class=\"data row1 col2\" >0.60</td>\n",
       "    </tr>\n",
       "    <tr>\n",
       "      <th id=\"T_79ae0_level0_row2\" class=\"row_heading level0 row2\" >Gradient</th>\n",
       "      <td id=\"T_79ae0_row2_col0\" class=\"data row2 col0\" >0.43</td>\n",
       "      <td id=\"T_79ae0_row2_col1\" class=\"data row2 col1\" >0.22</td>\n",
       "      <td id=\"T_79ae0_row2_col2\" class=\"data row2 col2\" >0.20</td>\n",
       "    </tr>\n",
       "    <tr>\n",
       "      <th id=\"T_79ae0_level0_row3\" class=\"row_heading level0 row3\" >Gradient (x Input)</th>\n",
       "      <td id=\"T_79ae0_row3_col0\" class=\"data row3 col0\" >0.36</td>\n",
       "      <td id=\"T_79ae0_row3_col1\" class=\"data row3 col1\" >0.39</td>\n",
       "      <td id=\"T_79ae0_row3_col2\" class=\"data row3 col2\" >0.80</td>\n",
       "    </tr>\n",
       "    <tr>\n",
       "      <th id=\"T_79ae0_level0_row4\" class=\"row_heading level0 row4\" >Integrated Gradient</th>\n",
       "      <td id=\"T_79ae0_row4_col0\" class=\"data row4 col0\" >0.03</td>\n",
       "      <td id=\"T_79ae0_row4_col1\" class=\"data row4 col1\" >0.61</td>\n",
       "      <td id=\"T_79ae0_row4_col2\" class=\"data row4 col2\" >0.40</td>\n",
       "    </tr>\n",
       "    <tr>\n",
       "      <th id=\"T_79ae0_level0_row5\" class=\"row_heading level0 row5\" >Integrated Gradient (x Input)</th>\n",
       "      <td id=\"T_79ae0_row5_col0\" class=\"data row5 col0\" >0.44</td>\n",
       "      <td id=\"T_79ae0_row5_col1\" class=\"data row5 col1\" >0.23</td>\n",
       "      <td id=\"T_79ae0_row5_col2\" class=\"data row5 col2\" >0.20</td>\n",
       "    </tr>\n",
       "  </tbody>\n",
       "</table>\n"
      ],
      "text/plain": [
       "<pandas.io.formats.style.Styler at 0x7fda81b320e0>"
      ]
     },
     "execution_count": 18,
     "metadata": {},
     "output_type": "execute_result"
    }
   ],
   "source": [
    "bench.show_evaluation_table(explanation_evaluations)"
   ]
  },
  {
   "cell_type": "markdown",
   "id": "1d86def7",
   "metadata": {},
   "source": [
    "Area Over the Perturbation Curve (AOPC) Comprehensiveness (aopc_compr), AOPC Sufficiency (aopc_suff) and Correlation with Leave-One-Out scores (taucorr_loo) are three measures of faithfulness.\n",
    "\n",
    "**AOPC Comprehensiveness**. Comprehensiveness measures the drop in the model probability if the relevant tokens of the explanations are removed. We measure comprehensiveness via the Area Over the Perturbation Curve by progressively considering the most $k$ important tokens, with $k$ from 1 to #tokens (as default) and then averaging the result. The higher the value, the more the explainer is able to select the relevant tokens for the prediction.\n",
    "\n",
    "**AOPC Sufficiency**. Sufficiency captures if the tokens in the explanation are sufficient for the model to make the prediction. As for comprehensiveness, we use the AOPC score.\n",
    "\n",
    "**Correlation with Leave-One-Out scores**. We first compute the leave-one-out scores by computing the prediction difference when one feature at the time is omitted. We then measure the Spearman correlation with the explanations."
   ]
  },
  {
   "cell_type": "markdown",
   "id": "fff44d00",
   "metadata": {},
   "source": [
    "### Plausibility"
   ]
  },
  {
   "cell_type": "markdown",
   "id": "7cad0272",
   "metadata": {},
   "source": [
    "We can also specify a human rationale and evaluate plausibility."
   ]
  },
  {
   "cell_type": "code",
   "execution_count": 19,
   "id": "0561e8d4",
   "metadata": {},
   "outputs": [
    {
     "name": "stderr",
     "output_type": "stream",
     "text": [
      "                                                                                                                                                         \r"
     ]
    },
    {
     "data": {
      "text/html": [
       "<style type=\"text/css\">\n",
       "#T_c2660 thead tr th:nth-child(1) {\n",
       "  position: sticky;\n",
       "  background-color: inherit;\n",
       "  left: 0px;\n",
       "  z-index: 3 !important;\n",
       "}\n",
       "#T_c2660 tbody tr th:nth-child(1) {\n",
       "  position: sticky;\n",
       "  background-color: inherit;\n",
       "  left: 0px;\n",
       "  z-index: 1;\n",
       "}\n",
       "#T_c2660_row0_col0 {\n",
       "  background-color: #9d3d9d;\n",
       "  color: #f1f1f1;\n",
       "}\n",
       "#T_c2660_row0_col1 {\n",
       "  background-color: #a449a4;\n",
       "  color: #f1f1f1;\n",
       "}\n",
       "#T_c2660_row0_col2, #T_c2660_row1_col2 {\n",
       "  background-color: #973097;\n",
       "  color: #f1f1f1;\n",
       "}\n",
       "#T_c2660_row0_col3, #T_c2660_row0_col4, #T_c2660_row0_col5, #T_c2660_row1_col3, #T_c2660_row1_col4, #T_c2660_row1_col5 {\n",
       "  background-color: #800080;\n",
       "  color: #f1f1f1;\n",
       "}\n",
       "#T_c2660_row1_col0 {\n",
       "  background-color: #9c3a9c;\n",
       "  color: #f1f1f1;\n",
       "}\n",
       "#T_c2660_row1_col1, #T_c2660_row5_col1 {\n",
       "  background-color: #9d3b9d;\n",
       "  color: #f1f1f1;\n",
       "}\n",
       "#T_c2660_row2_col0 {\n",
       "  background-color: #a044a0;\n",
       "  color: #f1f1f1;\n",
       "}\n",
       "#T_c2660_row2_col1 {\n",
       "  background-color: #9c399c;\n",
       "  color: #f1f1f1;\n",
       "}\n",
       "#T_c2660_row2_col2, #T_c2660_row5_col2 {\n",
       "  background-color: #ae60ae;\n",
       "  color: #f1f1f1;\n",
       "}\n",
       "#T_c2660_row2_col3, #T_c2660_row3_col3, #T_c2660_row5_col3 {\n",
       "  background-color: #d6b4d6;\n",
       "  color: #000000;\n",
       "}\n",
       "#T_c2660_row2_col4, #T_c2660_row2_col5, #T_c2660_row3_col4, #T_c2660_row3_col5, #T_c2660_row4_col4, #T_c2660_row4_col5, #T_c2660_row5_col4, #T_c2660_row5_col5 {\n",
       "  background-color: #f3f0f3;\n",
       "  color: #000000;\n",
       "}\n",
       "#T_c2660_row3_col0 {\n",
       "  background-color: #a54da5;\n",
       "  color: #f1f1f1;\n",
       "}\n",
       "#T_c2660_row3_col1 {\n",
       "  background-color: #b265b2;\n",
       "  color: #f1f1f1;\n",
       "}\n",
       "#T_c2660_row3_col2 {\n",
       "  background-color: #8b188b;\n",
       "  color: #f1f1f1;\n",
       "}\n",
       "#T_c2660_row4_col0 {\n",
       "  background-color: #b875b8;\n",
       "  color: #f1f1f1;\n",
       "}\n",
       "#T_c2660_row4_col1 {\n",
       "  background-color: #cd9bcd;\n",
       "  color: #000000;\n",
       "}\n",
       "#T_c2660_row4_col2 {\n",
       "  background-color: #a247a2;\n",
       "  color: #f1f1f1;\n",
       "}\n",
       "#T_c2660_row4_col3 {\n",
       "  background-color: #e8d8e8;\n",
       "  color: #000000;\n",
       "}\n",
       "#T_c2660_row5_col0 {\n",
       "  background-color: #a043a0;\n",
       "  color: #f1f1f1;\n",
       "}\n",
       "</style>\n",
       "<table id=\"T_c2660\">\n",
       "  <thead>\n",
       "    <tr>\n",
       "      <th class=\"blank level0\" >&nbsp;</th>\n",
       "      <th id=\"T_c2660_level0_col0\" class=\"col_heading level0 col0\" >aopc_compr</th>\n",
       "      <th id=\"T_c2660_level0_col1\" class=\"col_heading level0 col1\" >aopc_suff</th>\n",
       "      <th id=\"T_c2660_level0_col2\" class=\"col_heading level0 col2\" >taucorr_loo</th>\n",
       "      <th id=\"T_c2660_level0_col3\" class=\"col_heading level0 col3\" >auprc_plau</th>\n",
       "      <th id=\"T_c2660_level0_col4\" class=\"col_heading level0 col4\" >token_f1_plau</th>\n",
       "      <th id=\"T_c2660_level0_col5\" class=\"col_heading level0 col5\" >token_iou_plau</th>\n",
       "    </tr>\n",
       "    <tr>\n",
       "      <th class=\"index_name level0\" >Explainer</th>\n",
       "      <th class=\"blank col0\" >&nbsp;</th>\n",
       "      <th class=\"blank col1\" >&nbsp;</th>\n",
       "      <th class=\"blank col2\" >&nbsp;</th>\n",
       "      <th class=\"blank col3\" >&nbsp;</th>\n",
       "      <th class=\"blank col4\" >&nbsp;</th>\n",
       "      <th class=\"blank col5\" >&nbsp;</th>\n",
       "    </tr>\n",
       "  </thead>\n",
       "  <tbody>\n",
       "    <tr>\n",
       "      <th id=\"T_c2660_level0_row0\" class=\"row_heading level0 row0\" >Partition SHAP</th>\n",
       "      <td id=\"T_c2660_row0_col0\" class=\"data row0 col0\" >0.49</td>\n",
       "      <td id=\"T_c2660_row0_col1\" class=\"data row0 col1\" >0.28</td>\n",
       "      <td id=\"T_c2660_row0_col2\" class=\"data row0 col2\" >0.60</td>\n",
       "      <td id=\"T_c2660_row0_col3\" class=\"data row0 col3\" >1.00</td>\n",
       "      <td id=\"T_c2660_row0_col4\" class=\"data row0 col4\" >1.00</td>\n",
       "      <td id=\"T_c2660_row0_col5\" class=\"data row0 col5\" >1.00</td>\n",
       "    </tr>\n",
       "    <tr>\n",
       "      <th id=\"T_c2660_level0_row1\" class=\"row_heading level0 row1\" >LIME</th>\n",
       "      <td id=\"T_c2660_row1_col0\" class=\"data row1 col0\" >0.51</td>\n",
       "      <td id=\"T_c2660_row1_col1\" class=\"data row1 col1\" >0.23</td>\n",
       "      <td id=\"T_c2660_row1_col2\" class=\"data row1 col2\" >0.60</td>\n",
       "      <td id=\"T_c2660_row1_col3\" class=\"data row1 col3\" >1.00</td>\n",
       "      <td id=\"T_c2660_row1_col4\" class=\"data row1 col4\" >1.00</td>\n",
       "      <td id=\"T_c2660_row1_col5\" class=\"data row1 col5\" >1.00</td>\n",
       "    </tr>\n",
       "    <tr>\n",
       "      <th id=\"T_c2660_level0_row2\" class=\"row_heading level0 row2\" >Gradient</th>\n",
       "      <td id=\"T_c2660_row2_col0\" class=\"data row2 col0\" >0.43</td>\n",
       "      <td id=\"T_c2660_row2_col1\" class=\"data row2 col1\" >0.22</td>\n",
       "      <td id=\"T_c2660_row2_col2\" class=\"data row2 col2\" >0.20</td>\n",
       "      <td id=\"T_c2660_row2_col3\" class=\"data row2 col3\" >0.25</td>\n",
       "      <td id=\"T_c2660_row2_col4\" class=\"data row2 col4\" >0.00</td>\n",
       "      <td id=\"T_c2660_row2_col5\" class=\"data row2 col5\" >0.00</td>\n",
       "    </tr>\n",
       "    <tr>\n",
       "      <th id=\"T_c2660_level0_row3\" class=\"row_heading level0 row3\" >Gradient (x Input)</th>\n",
       "      <td id=\"T_c2660_row3_col0\" class=\"data row3 col0\" >0.36</td>\n",
       "      <td id=\"T_c2660_row3_col1\" class=\"data row3 col1\" >0.39</td>\n",
       "      <td id=\"T_c2660_row3_col2\" class=\"data row3 col2\" >0.80</td>\n",
       "      <td id=\"T_c2660_row3_col3\" class=\"data row3 col3\" >0.25</td>\n",
       "      <td id=\"T_c2660_row3_col4\" class=\"data row3 col4\" >0.00</td>\n",
       "      <td id=\"T_c2660_row3_col5\" class=\"data row3 col5\" >0.00</td>\n",
       "    </tr>\n",
       "    <tr>\n",
       "      <th id=\"T_c2660_level0_row4\" class=\"row_heading level0 row4\" >Integrated Gradient</th>\n",
       "      <td id=\"T_c2660_row4_col0\" class=\"data row4 col0\" >0.03</td>\n",
       "      <td id=\"T_c2660_row4_col1\" class=\"data row4 col1\" >0.61</td>\n",
       "      <td id=\"T_c2660_row4_col2\" class=\"data row4 col2\" >0.40</td>\n",
       "      <td id=\"T_c2660_row4_col3\" class=\"data row4 col3\" >0.10</td>\n",
       "      <td id=\"T_c2660_row4_col4\" class=\"data row4 col4\" >0.00</td>\n",
       "      <td id=\"T_c2660_row4_col5\" class=\"data row4 col5\" >0.00</td>\n",
       "    </tr>\n",
       "    <tr>\n",
       "      <th id=\"T_c2660_level0_row5\" class=\"row_heading level0 row5\" >Integrated Gradient (x Input)</th>\n",
       "      <td id=\"T_c2660_row5_col0\" class=\"data row5 col0\" >0.44</td>\n",
       "      <td id=\"T_c2660_row5_col1\" class=\"data row5 col1\" >0.23</td>\n",
       "      <td id=\"T_c2660_row5_col2\" class=\"data row5 col2\" >0.20</td>\n",
       "      <td id=\"T_c2660_row5_col3\" class=\"data row5 col3\" >0.25</td>\n",
       "      <td id=\"T_c2660_row5_col4\" class=\"data row5 col4\" >0.00</td>\n",
       "      <td id=\"T_c2660_row5_col5\" class=\"data row5 col5\" >0.00</td>\n",
       "    </tr>\n",
       "  </tbody>\n",
       "</table>\n"
      ],
      "text/plain": [
       "<pandas.io.formats.style.Styler at 0x7fda81b33970>"
      ]
     },
     "execution_count": 19,
     "metadata": {},
     "output_type": "execute_result"
    }
   ],
   "source": [
    "explanation_evaluations = bench.evaluate_explanations(\n",
    "    explanations,\n",
    "    target=0,\n",
    "    human_rationale=[0, 1, 0, 0, 0],\n",
    "    top_k_rationale = 1\n",
    ")\n",
    "bench.show_evaluation_table(explanation_evaluations)"
   ]
  },
  {
   "cell_type": "markdown",
   "id": "ca7a5ac0",
   "metadata": {},
   "source": [
    "Plausibility evaluates how well the explanation agree with human rationale. We evaluate plausibility via \n",
    "Area Under the Precision Recall curve (AUPRC) (auprc_plau),  token-level f1-score (token_f1_plau) and average Intersection-Over-Union (IOU) at the token level (token_iou_plau).\n",
    "\n",
    "\n",
    "**Area Under the Precision Recall curve (AUPRC)** is computed by sweeping a threshold over token scores.\n",
    "\n",
    "Token-level f1-score and the average Intersection-Over-Unionconsider discrete rationales.\n",
    "We derive a discrete rationale by taking the top-k values. K in the example is set to 1. * \n",
    "\n",
    "**Token-level f1-score** is the token-level F1 scores derived from the token-level precision and recall. \n",
    "**Intersection-Over-Union (IOU)** is the size of the overlap of the tokens they cover divided by the size of their union.\n",
    "\n",
    "*When the set of human rationales for the dataset is available, K is set as the average rationale length (as in ERASER)"
   ]
  },
  {
   "cell_type": "markdown",
   "id": "3cabbcb0",
   "metadata": {},
   "source": [
    "# Loading pre-computed explanations from XAI Datasets"
   ]
  },
  {
   "cell_type": "markdown",
   "id": "1e70b2fd",
   "metadata": {},
   "source": [
    "We can directly load a dataset with rationales using our Dataset API -- since we use Hugging Face's [datasets](https://huggingface.co/datasets), you will download the dataset just once and cache it 🚀"
   ]
  },
  {
   "cell_type": "code",
   "execution_count": 20,
   "id": "23bb7ea7",
   "metadata": {},
   "outputs": [
    {
     "name": "stderr",
     "output_type": "stream",
     "text": [
      "Downloading data: 100%|█████████████████████████████████████████████████████████████████████████████████████████████| 1.68M/1.68M [00:01<00:00, 1.43MB/s]\n",
      "Downloading data: 100%|████████████████████████████████████████████████████████████████████████████████████████████████| 212k/212k [00:00<00:00, 468kB/s]\n",
      "Downloading data: 100%|████████████████████████████████████████████████████████████████████████████████████████████████| 212k/212k [00:00<00:00, 733kB/s]\n",
      "Generating train split: 100%|███████████████████████████████████████████████████████████████████████████| 15383/15383 [00:00<00:00, 195045.28 examples/s]\n",
      "Generating validation split: 100%|█████████████████████████████████████████████████████████████████████████| 1922/1922 [00:00<00:00, 98394.39 examples/s]\n",
      "Generating test split: 100%|██████████████████████████████████████████████████████████████████████████████| 1924/1924 [00:00<00:00, 114339.33 examples/s]\n"
     ]
    }
   ],
   "source": [
    "hatexdata = bench.load_dataset(\"hatexplain\")"
   ]
  },
  {
   "cell_type": "markdown",
   "id": "e472f7f8",
   "metadata": {},
   "source": [
    "Here we show an example of text and its human rationales."
   ]
  },
  {
   "cell_type": "code",
   "execution_count": 21,
   "id": "1d082e8c",
   "metadata": {},
   "outputs": [
    {
     "data": {
      "text/plain": [
       "('<user> <user> why are you repeating yourself are you a little retarded',\n",
       " [[], [], [0, 0, 0, 0, 0, 0, 0, 0, 0, 0, 0, 0, 0, 0, 0, 0, 1, 1]])"
      ]
     },
     "execution_count": 21,
     "metadata": {},
     "output_type": "execute_result"
    }
   ],
   "source": [
    "hatexdata[2][\"text\"], hatexdata[2][\"rationale\"]"
   ]
  },
  {
   "cell_type": "markdown",
   "id": "0706f67e",
   "metadata": {},
   "source": [
    "# Bonus!\n",
    "\n",
    "There is more! You can:\n",
    "\n",
    "- use *ferret* built-in explainers to have fine-grained control over their *init* and *call* parameters (please refer to our [doc](https://ferret.readthedocs.io/en/latest/?version=latest) to know more)\n",
    "- compute individual faithfulness and plausibility metrics over explanations"
   ]
  },
  {
   "cell_type": "markdown",
   "id": "561f2113",
   "metadata": {},
   "source": [
    "**Interface to individual explainers**\n",
    "\n",
    "You can also use individual explainers using an object oriented interface."
   ]
  },
  {
   "cell_type": "code",
   "execution_count": 22,
   "id": "77e3877f",
   "metadata": {},
   "outputs": [],
   "source": [
    "from ferret import SHAPExplainer, LIMEExplainer"
   ]
  },
  {
   "cell_type": "code",
   "execution_count": 28,
   "id": "52c85a95",
   "metadata": {},
   "outputs": [
    {
     "name": "stderr",
     "output_type": "stream",
     "text": [
      "No helper provided. Using default 'text-classification' helper.\n",
      "                                                                                                                                                         \r"
     ]
    },
    {
     "data": {
      "text/plain": [
       "Explanation(text=['I love your style!'], tokens=['<s>', '▁I', '▁love', '▁your', '▁style', '!', '</s>'], scores=array([0.        , 0.05963124, 0.13740776, 0.0458926 , 0.1224144 ,\n",
       "       0.17161505, 0.        ]), explainer='LIME', target_pos_idx=2, helper_type='sequence-classification', target_token_pos_idx=None, target='positive', target_token=None)"
      ]
     },
     "execution_count": 28,
     "metadata": {},
     "output_type": "execute_result"
    }
   ],
   "source": [
    "exp = LIMEExplainer(model, tokenizer)\n",
    "exp(text, target=\"positive\")"
   ]
  },
  {
   "cell_type": "code",
   "execution_count": 29,
   "id": "e75aa80e-773a-48de-a27f-5eb6cdb670a6",
   "metadata": {},
   "outputs": [
    {
     "name": "stderr",
     "output_type": "stream",
     "text": [
      "No helper provided. Using default 'text-classification' helper.\n"
     ]
    },
    {
     "data": {
      "text/plain": [
       "Explanation(text=['I love your style!'], tokens=['<s>', '▁I', '▁love', '▁your', '▁style', '!', '</s>'], scores=array([ 0.        , -0.0400334 ,  0.29239076,  0.0596311 ,  0.13426562,\n",
       "        0.15686466,  0.        ]), explainer='Partition SHAP', target_pos_idx=2, helper_type='sequence-classification', target_token_pos_idx=None, target='positive', target_token=None)"
      ]
     },
     "execution_count": 29,
     "metadata": {},
     "output_type": "execute_result"
    }
   ],
   "source": [
    "exp = SHAPExplainer(model, tokenizer)\n",
    "exp(text, target=\"positive\")"
   ]
  },
  {
   "cell_type": "code",
   "execution_count": 30,
   "id": "09532fdd",
   "metadata": {},
   "outputs": [],
   "source": [
    "exp = SHAPExplainer(model, tokenizer)\n",
    "e = exp(text, target=\"positive\")"
   ]
  },
  {
   "cell_type": "code",
   "execution_count": 33,
   "id": "9db355c7",
   "metadata": {},
   "outputs": [
    {
     "data": {
      "text/html": [
       "<style type=\"text/css\">\n",
       "#T_2a22d thead tr th:nth-child(1) {\n",
       "  position: sticky;\n",
       "  background-color: inherit;\n",
       "  left: 0px;\n",
       "  z-index: 3 !important;\n",
       "}\n",
       "#T_2a22d tbody tr th:nth-child(1) {\n",
       "  position: sticky;\n",
       "  background-color: inherit;\n",
       "  left: 0px;\n",
       "  z-index: 1;\n",
       "}\n",
       "#T_2a22d_row0_col0 {\n",
       "  background-color: #e9edf0;\n",
       "  color: #000000;\n",
       "}\n",
       "#T_2a22d_row0_col1 {\n",
       "  background-color: #ebbcbf;\n",
       "  color: #000000;\n",
       "}\n",
       "#T_2a22d_row0_col2 {\n",
       "  background-color: #f1e7e7;\n",
       "  color: #000000;\n",
       "}\n",
       "#T_2a22d_row0_col3 {\n",
       "  background-color: #efd9da;\n",
       "  color: #000000;\n",
       "}\n",
       "#T_2a22d_row0_col4 {\n",
       "  background-color: #efd4d6;\n",
       "  color: #000000;\n",
       "}\n",
       "</style>\n",
       "<table id=\"T_2a22d\">\n",
       "  <thead>\n",
       "    <tr>\n",
       "      <th class=\"blank level0\" >&nbsp;</th>\n",
       "      <th id=\"T_2a22d_level0_col0\" class=\"col_heading level0 col0\" >▁I</th>\n",
       "      <th id=\"T_2a22d_level0_col1\" class=\"col_heading level0 col1\" >▁love</th>\n",
       "      <th id=\"T_2a22d_level0_col2\" class=\"col_heading level0 col2\" >▁your</th>\n",
       "      <th id=\"T_2a22d_level0_col3\" class=\"col_heading level0 col3\" >▁style</th>\n",
       "      <th id=\"T_2a22d_level0_col4\" class=\"col_heading level0 col4\" >!</th>\n",
       "    </tr>\n",
       "  </thead>\n",
       "  <tbody>\n",
       "    <tr>\n",
       "      <th id=\"T_2a22d_level0_row0\" class=\"row_heading level0 row0\" >Partition SHAP</th>\n",
       "      <td id=\"T_2a22d_row0_col0\" class=\"data row0 col0\" >-0.04</td>\n",
       "      <td id=\"T_2a22d_row0_col1\" class=\"data row0 col1\" >0.29</td>\n",
       "      <td id=\"T_2a22d_row0_col2\" class=\"data row0 col2\" >0.06</td>\n",
       "      <td id=\"T_2a22d_row0_col3\" class=\"data row0 col3\" >0.13</td>\n",
       "      <td id=\"T_2a22d_row0_col4\" class=\"data row0 col4\" >0.16</td>\n",
       "    </tr>\n",
       "  </tbody>\n",
       "</table>\n"
      ],
      "text/plain": [
       "<pandas.io.formats.style.Styler at 0x7fda81fa46a0>"
      ]
     },
     "execution_count": 33,
     "metadata": {},
     "output_type": "execute_result"
    }
   ],
   "source": [
    "bench.show_table([e])"
   ]
  },
  {
   "cell_type": "markdown",
   "id": "0a55837e",
   "metadata": {},
   "source": [
    "and evaluate an individual evaluation measure:"
   ]
  },
  {
   "cell_type": "code",
   "execution_count": 36,
   "id": "6112eb61",
   "metadata": {},
   "outputs": [],
   "source": [
    "from ferret import AOPC_Comprehensiveness_Evaluation\n",
    "\n",
    "aopc_compr_eval = AOPC_Comprehensiveness_Evaluation(model, tokenizer, task_name=\"text-classification\")"
   ]
  },
  {
   "cell_type": "code",
   "execution_count": 37,
   "id": "fdc834d5",
   "metadata": {},
   "outputs": [
    {
     "data": {
      "text/plain": [
       "EvaluationMetricOutput(metric={'NAME': 'aopc_comprehensiveness', 'SHORT_NAME': 'aopc_compr', 'MIN_VALUE': -1.0, 'MAX_VALUE': 1.0, 'LOWER_IS_BETTER': False, 'METRIC_FAMILY': <EvaluationMetricFamily.FAITHFULNESS: 'faithfulness'>}, value=0.48677334)"
      ]
     },
     "execution_count": 37,
     "metadata": {},
     "output_type": "execute_result"
    }
   ],
   "source": [
    "aopc_compr_eval.compute_evaluation(e, target=\"positive\")"
   ]
  },
  {
   "cell_type": "code",
   "execution_count": 38,
   "id": "44661fb5",
   "metadata": {},
   "outputs": [
    {
     "name": "stderr",
     "output_type": "stream",
     "text": [
      "                                                                                                                                                         \r"
     ]
    },
    {
     "data": {
      "text/html": [
       "<style type=\"text/css\">\n",
       "#T_a8361 thead tr th:nth-child(1) {\n",
       "  position: sticky;\n",
       "  background-color: inherit;\n",
       "  left: 0px;\n",
       "  z-index: 3 !important;\n",
       "}\n",
       "#T_a8361 tbody tr th:nth-child(1) {\n",
       "  position: sticky;\n",
       "  background-color: inherit;\n",
       "  left: 0px;\n",
       "  z-index: 1;\n",
       "}\n",
       "#T_a8361_row0_col0 {\n",
       "  background-color: #9d3d9d;\n",
       "  color: #f1f1f1;\n",
       "}\n",
       "#T_a8361_row0_col1 {\n",
       "  background-color: #a449a4;\n",
       "  color: #f1f1f1;\n",
       "}\n",
       "#T_a8361_row0_col2 {\n",
       "  background-color: #973097;\n",
       "  color: #f1f1f1;\n",
       "}\n",
       "</style>\n",
       "<table id=\"T_a8361\">\n",
       "  <thead>\n",
       "    <tr>\n",
       "      <th class=\"blank level0\" >&nbsp;</th>\n",
       "      <th id=\"T_a8361_level0_col0\" class=\"col_heading level0 col0\" >aopc_compr</th>\n",
       "      <th id=\"T_a8361_level0_col1\" class=\"col_heading level0 col1\" >aopc_suff</th>\n",
       "      <th id=\"T_a8361_level0_col2\" class=\"col_heading level0 col2\" >taucorr_loo</th>\n",
       "    </tr>\n",
       "    <tr>\n",
       "      <th class=\"index_name level0\" >Explainer</th>\n",
       "      <th class=\"blank col0\" >&nbsp;</th>\n",
       "      <th class=\"blank col1\" >&nbsp;</th>\n",
       "      <th class=\"blank col2\" >&nbsp;</th>\n",
       "    </tr>\n",
       "  </thead>\n",
       "  <tbody>\n",
       "    <tr>\n",
       "      <th id=\"T_a8361_level0_row0\" class=\"row_heading level0 row0\" >Partition SHAP</th>\n",
       "      <td id=\"T_a8361_row0_col0\" class=\"data row0 col0\" >0.49</td>\n",
       "      <td id=\"T_a8361_row0_col1\" class=\"data row0 col1\" >0.28</td>\n",
       "      <td id=\"T_a8361_row0_col2\" class=\"data row0 col2\" >0.60</td>\n",
       "    </tr>\n",
       "  </tbody>\n",
       "</table>\n"
      ],
      "text/plain": [
       "<pandas.io.formats.style.Styler at 0x7fda81f20340>"
      ]
     },
     "execution_count": 38,
     "metadata": {},
     "output_type": "execute_result"
    }
   ],
   "source": [
    "ev = bench.evaluate_explanation(e, target=\"positive\")\n",
    "bench.show_evaluation_table([ev])"
   ]
  }
 ],
 "metadata": {
  "kernelspec": {
   "display_name": "Python 3 (ipykernel)",
   "language": "python",
   "name": "python3"
  },
  "language_info": {
   "codemirror_mode": {
    "name": "ipython",
    "version": 3
   },
   "file_extension": ".py",
   "mimetype": "text/x-python",
   "name": "python",
   "nbconvert_exporter": "python",
   "pygments_lexer": "ipython3",
   "version": "3.10.0"
  },
  "toc": {
   "base_numbering": 1,
   "nav_menu": {},
   "number_sections": true,
   "sideBar": true,
   "skip_h1_title": false,
   "title_cell": "Table of Contents",
   "title_sidebar": "Contents",
   "toc_cell": false,
   "toc_position": {},
   "toc_section_display": true,
   "toc_window_display": false
  },
  "vscode": {
   "interpreter": {
    "hash": "d8f902cf6ca391daaec6c50bfce6a52cbc75b613a5db9822f88b522b8035bbf2"
   }
  }
 },
 "nbformat": 4,
 "nbformat_minor": 5
}
